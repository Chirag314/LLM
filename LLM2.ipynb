{
  "cells": [
    {
      "cell_type": "markdown",
      "metadata": {
        "id": "view-in-github",
        "colab_type": "text"
      },
      "source": [
        "<a href=\"https://colab.research.google.com/github/Chirag314/LLM/blob/main/LLM2.ipynb\" target=\"_parent\"><img src=\"https://colab.research.google.com/assets/colab-badge.svg\" alt=\"Open In Colab\"/></a>"
      ]
    },
    {
      "cell_type": "code",
      "execution_count": 23,
      "metadata": {
        "id": "3ig9mvkCYEYy"
      },
      "outputs": [],
      "source": [
        "!pip install -Uqqq rich openai tiktoken wandb tenacity"
      ]
    },
    {
      "cell_type": "code",
      "execution_count": 24,
      "metadata": {
        "id": "PgBcfxJrYOXj"
      },
      "outputs": [],
      "source": [
        "import tiktoken\n",
        "import wandb\n",
        "from pprint import pprint\n",
        "from wandb.integration.openai import autolog\n",
        "import random"
      ]
    },
    {
      "cell_type": "code",
      "execution_count": 25,
      "metadata": {
        "id": "pSni4p3XX4O8"
      },
      "outputs": [],
      "source": [
        "import os\n",
        "from getpass import getpass\n",
        "import openai\n",
        "from pathlib import Path\n",
        "from rich.markdown import Markdown\n",
        "import pandas as pd\n",
        "from tenacity import(\n",
        "    retry,\n",
        "    stop_after_attempt,\n",
        "    wait_random_exponential,\n",
        ")\n"
      ]
    },
    {
      "cell_type": "code",
      "execution_count": 26,
      "metadata": {
        "id": "SrQLMF79XyYa"
      },
      "outputs": [],
      "source": [
        "if os.getenv(\"OPENAI_API_KEY\") is None:\n",
        "  if any(['COLAB' in x for x in os.environ.keys()]):\n",
        "    print('Please enter password in the prompt at the top of your window!')\n",
        "  os.environ[\"OPENAI_API_KEY\"] = getpass(\"Paste your OpenAI key from: https://platform.openai.com/account/api-keys\\n\")\n",
        "  openai.api_key = os.getenv(\"OPENAI_API_KEY\", \"\")"
      ]
    },
    {
      "cell_type": "code",
      "execution_count": 27,
      "metadata": {
        "colab": {
          "base_uri": "https://localhost:8080/",
          "height": 391,
          "referenced_widgets": [
            "f6bc1899d5924e10b9cb2738f85d92b2"
          ]
        },
        "id": "RqlS4Aq5X3rS",
        "outputId": "2284e70d-e509-472a-ecbb-6bad81cf226b"
      },
      "outputs": [
        {
          "output_type": "display_data",
          "data": {
            "text/plain": [
              "<IPython.core.display.HTML object>"
            ],
            "text/html": [
              "Waiting for W&B process to finish... <strong style=\"color:green\">(success).</strong>"
            ]
          },
          "metadata": {}
        },
        {
          "output_type": "display_data",
          "data": {
            "text/plain": [
              "VBox(children=(Label(value='0.027 MB of 0.027 MB uploaded (0.000 MB deduped)\\r'), FloatProgress(value=1.0, max…"
            ],
            "application/vnd.jupyter.widget-view+json": {
              "version_major": 2,
              "version_minor": 0,
              "model_id": "f6bc1899d5924e10b9cb2738f85d92b2"
            }
          },
          "metadata": {}
        },
        {
          "output_type": "display_data",
          "data": {
            "text/plain": [
              "<IPython.core.display.HTML object>"
            ],
            "text/html": [
              "<style>\n",
              "    table.wandb td:nth-child(1) { padding: 0 10px; text-align: left ; width: auto;} td:nth-child(2) {text-align: left ; width: 100%}\n",
              "    .wandb-row { display: flex; flex-direction: row; flex-wrap: wrap; justify-content: flex-start; width: 100% }\n",
              "    .wandb-col { display: flex; flex-direction: column; flex-basis: 100%; flex: 1; padding: 10px; }\n",
              "    </style>\n",
              "<div class=\"wandb-row\"><div class=\"wandb-col\"><h3>Run history:</h3><br/><table class=\"wandb\"><tr><td>usage/completion_tokens</td><td>▁▂█</td></tr><tr><td>usage/elapsed_time</td><td>▁▁█</td></tr><tr><td>usage/prompt_tokens</td><td>▁▁█</td></tr><tr><td>usage/total_tokens</td><td>▁▁█</td></tr></table><br/></div><div class=\"wandb-col\"><h3>Run summary:</h3><br/><table class=\"wandb\"><tr><td>usage/completion_tokens</td><td>358</td></tr><tr><td>usage/elapsed_time</td><td>4.6468</td></tr><tr><td>usage/prompt_tokens</td><td>218</td></tr><tr><td>usage/total_tokens</td><td>576</td></tr></table><br/></div></div>"
            ]
          },
          "metadata": {}
        },
        {
          "output_type": "display_data",
          "data": {
            "text/plain": [
              "<IPython.core.display.HTML object>"
            ],
            "text/html": [
              " View run <strong style=\"color:#cdcd00\">solar-armadillo-3</strong> at: <a href='https://wandb.ai/cdesai/llmapps/runs/gk7wc0hp' target=\"_blank\">https://wandb.ai/cdesai/llmapps/runs/gk7wc0hp</a><br/>Synced 5 W&B file(s), 3 media file(s), 3 artifact file(s) and 0 other file(s)"
            ]
          },
          "metadata": {}
        },
        {
          "output_type": "display_data",
          "data": {
            "text/plain": [
              "<IPython.core.display.HTML object>"
            ],
            "text/html": [
              "Find logs at: <code>./wandb/run-20230830_205259-gk7wc0hp/logs</code>"
            ]
          },
          "metadata": {}
        },
        {
          "output_type": "stream",
          "name": "stderr",
          "text": [
            "\u001b[34m\u001b[1mwandb\u001b[0m: Currently logged in as: \u001b[33mcdesai\u001b[0m. Use \u001b[1m`wandb login --relogin`\u001b[0m to force relogin\n"
          ]
        },
        {
          "output_type": "display_data",
          "data": {
            "text/plain": [
              "<IPython.core.display.HTML object>"
            ],
            "text/html": [
              "Tracking run with wandb version 0.15.9"
            ]
          },
          "metadata": {}
        },
        {
          "output_type": "display_data",
          "data": {
            "text/plain": [
              "<IPython.core.display.HTML object>"
            ],
            "text/html": [
              "Run data is saved locally in <code>/content/wandb/run-20230830_223508-2v91t4sm</code>"
            ]
          },
          "metadata": {}
        },
        {
          "output_type": "display_data",
          "data": {
            "text/plain": [
              "<IPython.core.display.HTML object>"
            ],
            "text/html": [
              "Syncing run <strong><a href='https://wandb.ai/cdesai/llmapps/runs/2v91t4sm' target=\"_blank\">volcanic-eon-4</a></strong> to <a href='https://wandb.ai/cdesai/llmapps' target=\"_blank\">Weights & Biases</a> (<a href='https://wandb.me/run' target=\"_blank\">docs</a>)<br/>"
            ]
          },
          "metadata": {}
        },
        {
          "output_type": "display_data",
          "data": {
            "text/plain": [
              "<IPython.core.display.HTML object>"
            ],
            "text/html": [
              " View project at <a href='https://wandb.ai/cdesai/llmapps' target=\"_blank\">https://wandb.ai/cdesai/llmapps</a>"
            ]
          },
          "metadata": {}
        },
        {
          "output_type": "display_data",
          "data": {
            "text/plain": [
              "<IPython.core.display.HTML object>"
            ],
            "text/html": [
              " View run at <a href='https://wandb.ai/cdesai/llmapps/runs/2v91t4sm' target=\"_blank\">https://wandb.ai/cdesai/llmapps/runs/2v91t4sm</a>"
            ]
          },
          "metadata": {}
        }
      ],
      "source": [
        "# For logging into W&B\n",
        "autolog({\"project\":\"llmapps\",\"job_type\":\"introduction\"})"
      ]
    },
    {
      "cell_type": "markdown",
      "metadata": {
        "id": "kmWk23ALY_G3"
      },
      "source": [
        "GENERATING SYNTHETIC SUPPORT QUESTIONS"
      ]
    },
    {
      "cell_type": "code",
      "source": [
        "# ADD A RETRY BEHAVIOUR IN CASE WE HIT THE API RATE LIMIT\n",
        "@retry(wait=wait_random_exponential(min=1,max=60),stop=stop_after_attempt(6))\n",
        "def completion_with_backoff(**kwargs):\n",
        "  return openai.ChatCompletion.create(**kwargs)"
      ],
      "metadata": {
        "id": "7PNKTVPeMZtK"
      },
      "execution_count": 28,
      "outputs": []
    },
    {
      "cell_type": "code",
      "source": [
        "model_name=\"gpt-3.5-turbo\""
      ],
      "metadata": {
        "id": "1AuYubMwOhoL"
      },
      "execution_count": 29,
      "outputs": []
    },
    {
      "cell_type": "code",
      "source": [
        "system_prompt=\"You are a helpful assistant\"\n",
        "user_prompt=\"Generate a support question from W & B user\"\n",
        "\n",
        "def generate_and_print(system_prompt,user_prompt,n=5):\n",
        "  messages=[\n",
        "      {\"role\":\"system\",\"content\":system_prompt},\n",
        "      {\"role\":\"user\",\"content\":user_prompt},\n",
        "  ]\n",
        "  responses=completion_with_backoff(\n",
        "      model=model_name,\n",
        "      messages=messages,\n",
        "      n=n\n",
        "\n",
        "  )\n",
        "  for response in responses.choices:\n",
        "    generation =response.message.content\n",
        "    display(Markdown(generation))\n",
        "\n",
        "generate_and_print(system_prompt,user_prompt)"
      ],
      "metadata": {
        "colab": {
          "base_uri": "https://localhost:8080/",
          "height": 102
        },
        "id": "XrqCSU74Ohkr",
        "outputId": "11a08fa9-84a9-4b2b-e56a-d08309a814f7"
      },
      "execution_count": 30,
      "outputs": [
        {
          "output_type": "display_data",
          "data": {
            "text/plain": [
              "What steps can I take to troubleshoot a connectivity issue with my Wi-Fi network?                                  \n"
            ],
            "text/html": [
              "<pre style=\"white-space:pre;overflow-x:auto;line-height:normal;font-family:Menlo,'DejaVu Sans Mono',consolas,'Courier New',monospace\">What steps can I take to troubleshoot a connectivity issue with my Wi-Fi network?                                  \n",
              "</pre>\n"
            ]
          },
          "metadata": {}
        },
        {
          "output_type": "display_data",
          "data": {
            "text/plain": [
              "What steps should I follow if I want to update my payment information on the W & B platform?                       \n"
            ],
            "text/html": [
              "<pre style=\"white-space:pre;overflow-x:auto;line-height:normal;font-family:Menlo,'DejaVu Sans Mono',consolas,'Courier New',monospace\">What steps should I follow if I want to update my payment information on the W &amp; B platform?                       \n",
              "</pre>\n"
            ]
          },
          "metadata": {}
        },
        {
          "output_type": "display_data",
          "data": {
            "text/plain": [
              "How can I troubleshoot issues with my Wi-Fi connection?                                                            \n"
            ],
            "text/html": [
              "<pre style=\"white-space:pre;overflow-x:auto;line-height:normal;font-family:Menlo,'DejaVu Sans Mono',consolas,'Courier New',monospace\">How can I troubleshoot issues with my Wi-Fi connection?                                                            \n",
              "</pre>\n"
            ]
          },
          "metadata": {}
        },
        {
          "output_type": "display_data",
          "data": {
            "text/plain": [
              "\"How do I format a table to display data in different colors for each cell in Microsoft Word?\"                     \n"
            ],
            "text/html": [
              "<pre style=\"white-space:pre;overflow-x:auto;line-height:normal;font-family:Menlo,'DejaVu Sans Mono',consolas,'Courier New',monospace\">\"How do I format a table to display data in different colors for each cell in Microsoft Word?\"                     \n",
              "</pre>\n"
            ]
          },
          "metadata": {}
        },
        {
          "output_type": "display_data",
          "data": {
            "text/plain": [
              "What steps should I take if I forgot my Wi-Fi password and need to connect a new device to the network?            \n"
            ],
            "text/html": [
              "<pre style=\"white-space:pre;overflow-x:auto;line-height:normal;font-family:Menlo,'DejaVu Sans Mono',consolas,'Courier New',monospace\">What steps should I take if I forgot my Wi-Fi password and need to connect a new device to the network?            \n",
              "</pre>\n"
            ]
          },
          "metadata": {}
        }
      ]
    },
    {
      "cell_type": "code",
      "source": [
        "#test if examples.txt is present, download it if not\n",
        "if not Path(\"examples.txt\").exists():\n",
        "  !wget https://raw.githubusercontent.com/wandb/edu/main/llm-apps-course/notebooks/examples.txt"
      ],
      "metadata": {
        "id": "Bqkyrfz2Ohil"
      },
      "execution_count": 31,
      "outputs": []
    },
    {
      "cell_type": "code",
      "source": [
        "delimiter='\\t'\n",
        "with open('examples.txt','r') as file:\n",
        "  data=file.read()\n",
        "  real_queries=data.split(delimiter)\n",
        "\n",
        "pprint(f\"We have {len(real_queries)} real queries:\")\n",
        "Markdown(f\"Sample one :\\n\\\"{random.choice(real_queries)}\\\"\")"
      ],
      "metadata": {
        "colab": {
          "base_uri": "https://localhost:8080/",
          "height": 51
        },
        "id": "tKGEyZkgOhgo",
        "outputId": "be21bb03-b6b4-478a-d57f-88ca75c11ee7"
      },
      "execution_count": 32,
      "outputs": [
        {
          "output_type": "stream",
          "name": "stdout",
          "text": [
            "'We have 228 real queries:'\n"
          ]
        },
        {
          "output_type": "execute_result",
          "data": {
            "text/plain": [
              "Sample one : \"how do I utilize Weights & Biases LangChain integration>?\"                                           \n"
            ],
            "text/html": [
              "<pre style=\"white-space:pre;overflow-x:auto;line-height:normal;font-family:Menlo,'DejaVu Sans Mono',consolas,'Courier New',monospace\">Sample one : \"how do I utilize Weights &amp; Biases LangChain integration&gt;?\"                                           \n",
              "</pre>\n"
            ]
          },
          "metadata": {},
          "execution_count": 32
        }
      ]
    },
    {
      "cell_type": "markdown",
      "source": [
        "We can now use those real user questions to guide our model to produce synthetic questions like those"
      ],
      "metadata": {
        "id": "ul0SF9NJQhjw"
      }
    },
    {
      "cell_type": "code",
      "source": [
        "def generate_few_shot_prompts(queries,n=3):\n",
        "  prompt=\"Generate a support question from an W&B user\\n\"+\\\n",
        "        \"Below you will find a few examples of real user queries\"\n",
        "  for _ in range(n):\n",
        "    prompt +=random.choice(queries) + \"\\n\"\n",
        "  prompt +=\"Let's start!\"\n",
        "  return prompt\n",
        "\n",
        "generation_prompt=generate_few_shot_prompts(real_queries)\n",
        "Markdown(generation_prompt)"
      ],
      "metadata": {
        "colab": {
          "base_uri": "https://localhost:8080/",
          "height": 153
        },
        "id": "NXjTbV6HOheE",
        "outputId": "20df06bc-d558-4807-b274-39f6c05818af"
      },
      "execution_count": 33,
      "outputs": [
        {
          "output_type": "execute_result",
          "data": {
            "text/plain": [
              "Generate a support question from an W&B user Below you will find a few examples of real user queriesI would like to\n",
              "track the weights and gradients for my model while it trains. I have three networks that are being trained jointly.\n",
              "I am calling ‘wandb.watch’ for each one of them individually. This allowed me to see the gradients, but for some   \n",
              "reason, I can’t see the weights for one of these networks in the ‘parameters’ tab.                                 \n",
              "\n",
              "I would appreciate if anyone could help me to figure out what is the issue and how I can fix it. can you tell me   \n",
              "why if i log sns.heatmaps, it overwrites previous images? Hey , Is there a recommended way to use Launch in an     \n",
              "SLURM environment? Let's start!                                                                                    \n"
            ],
            "text/html": [
              "<pre style=\"white-space:pre;overflow-x:auto;line-height:normal;font-family:Menlo,'DejaVu Sans Mono',consolas,'Courier New',monospace\">Generate a support question from an W&amp;B user Below you will find a few examples of real user queriesI would like to\n",
              "track the weights and gradients for my model while it trains. I have three networks that are being trained jointly.\n",
              "I am calling ‘wandb.watch’ for each one of them individually. This allowed me to see the gradients, but for some   \n",
              "reason, I can’t see the weights for one of these networks in the ‘parameters’ tab.                                 \n",
              "\n",
              "I would appreciate if anyone could help me to figure out what is the issue and how I can fix it. can you tell me   \n",
              "why if i log sns.heatmaps, it overwrites previous images? Hey , Is there a recommended way to use Launch in an     \n",
              "SLURM environment? Let's start!                                                                                    \n",
              "</pre>\n"
            ]
          },
          "metadata": {},
          "execution_count": 33
        }
      ]
    },
    {
      "cell_type": "markdown",
      "source": [
        "Lets check this"
      ],
      "metadata": {
        "id": "mKY6vzOHRacB"
      }
    },
    {
      "cell_type": "code",
      "source": [
        "generate_and_print(system_prompt,user_prompt=generation_prompt)"
      ],
      "metadata": {
        "colab": {
          "base_uri": "https://localhost:8080/",
          "height": 323
        },
        "id": "FxEMN_a_Ohch",
        "outputId": "5633b83f-eebe-4203-9bc5-45326fd6df8b"
      },
      "execution_count": 34,
      "outputs": [
        {
          "output_type": "display_data",
          "data": {
            "text/plain": [
              "What could be causing the weights of one of my networks to not be displayed in the 'parameters' tab after calling  \n",
              "'wandb.watch' for each of them individually?                                                                       \n"
            ],
            "text/html": [
              "<pre style=\"white-space:pre;overflow-x:auto;line-height:normal;font-family:Menlo,'DejaVu Sans Mono',consolas,'Courier New',monospace\">What could be causing the weights of one of my networks to not be displayed in the 'parameters' tab after calling  \n",
              "'wandb.watch' for each of them individually?                                                                       \n",
              "</pre>\n"
            ]
          },
          "metadata": {}
        },
        {
          "output_type": "display_data",
          "data": {
            "text/plain": [
              "Why can't I see the weights for one of my networks in the 'parameters' tab while using 'wandb.watch' for each      \n",
              "network separately?                                                                                                \n",
              "\n",
              "How can I prevent logging sns.heatmaps from overwriting previous images?                                           \n",
              "\n",
              "What is the recommended way to use Launch in an SLURM environment?                                                 \n"
            ],
            "text/html": [
              "<pre style=\"white-space:pre;overflow-x:auto;line-height:normal;font-family:Menlo,'DejaVu Sans Mono',consolas,'Courier New',monospace\">Why can't I see the weights for one of my networks in the 'parameters' tab while using 'wandb.watch' for each      \n",
              "network separately?                                                                                                \n",
              "\n",
              "How can I prevent logging sns.heatmaps from overwriting previous images?                                           \n",
              "\n",
              "What is the recommended way to use Launch in an SLURM environment?                                                 \n",
              "</pre>\n"
            ]
          },
          "metadata": {}
        },
        {
          "output_type": "display_data",
          "data": {
            "text/plain": [
              "I'm sorry, but as an AI assistant, I do not have access to real-time user queries. However, I can help you with any\n",
              "questions or issues you have regarding W&B. Please let me know how I can assist you!                               \n"
            ],
            "text/html": [
              "<pre style=\"white-space:pre;overflow-x:auto;line-height:normal;font-family:Menlo,'DejaVu Sans Mono',consolas,'Courier New',monospace\">I'm sorry, but as an AI assistant, I do not have access to real-time user queries. However, I can help you with any\n",
              "questions or issues you have regarding W&amp;B. Please let me know how I can assist you!                               \n",
              "</pre>\n"
            ]
          },
          "metadata": {}
        },
        {
          "output_type": "display_data",
          "data": {
            "text/plain": [
              "Why can't I see the weights for one of my networks in the 'parameters' tab when using 'wandb.watch'? How can I fix \n",
              "this issue?                                                                                                        \n",
              "\n",
              "Why does logging sns.heatmaps overwrite previous images? Is there a way to prevent this?                           \n",
              "\n",
              "What is the recommended way to use Launch in an SLURM environment?                                                 \n"
            ],
            "text/html": [
              "<pre style=\"white-space:pre;overflow-x:auto;line-height:normal;font-family:Menlo,'DejaVu Sans Mono',consolas,'Courier New',monospace\">Why can't I see the weights for one of my networks in the 'parameters' tab when using 'wandb.watch'? How can I fix \n",
              "this issue?                                                                                                        \n",
              "\n",
              "Why does logging sns.heatmaps overwrite previous images? Is there a way to prevent this?                           \n",
              "\n",
              "What is the recommended way to use Launch in an SLURM environment?                                                 \n",
              "</pre>\n"
            ]
          },
          "metadata": {}
        },
        {
          "output_type": "display_data",
          "data": {
            "text/plain": [
              "Why am I unable to see the weights for one of my networks in the 'parameters' tab when using 'wandb.watch' for each\n",
              "network individually?                                                                                              \n"
            ],
            "text/html": [
              "<pre style=\"white-space:pre;overflow-x:auto;line-height:normal;font-family:Menlo,'DejaVu Sans Mono',consolas,'Courier New',monospace\">Why am I unable to see the weights for one of my networks in the 'parameters' tab when using 'wandb.watch' for each\n",
              "network individually?                                                                                              \n",
              "</pre>\n"
            ]
          },
          "metadata": {}
        }
      ]
    },
    {
      "cell_type": "markdown",
      "source": [
        "Add context and response"
      ],
      "metadata": {
        "id": "FQSCm1H6RnTU"
      }
    },
    {
      "cell_type": "markdown",
      "source": [
        "#Check if directory exists, if not create it and downlaod the samples\n",
        "if not os.path.exists(\"../notebooks\"):\n",
        "  !git clone https://github.com/wandb/edu.git\n",
        "  !cp -r edu/llm-apps-course/docs_sample/notebooks ../"
      ],
      "metadata": {
        "id": "9uxEf4qaOhbS"
      }
    },
    {
      "cell_type": "code",
      "source": [
        "# check if directory exists, if not, create it and download the files, e.g if running in colab\n",
        "if not os.path.exists(\"../docs_sample/\"):\n",
        "  !git clone https://github.com/wandb/edu.git\n",
        "  !cp -r edu/llm-apps-course/docs_sample ../"
      ],
      "metadata": {
        "id": "sHkfLGy7qjr5"
      },
      "execution_count": 51,
      "outputs": []
    },
    {
      "cell_type": "code",
      "source": [
        "def find_md_files(directory):\n",
        "  \"Find all markdown files in a directory and return their contents\"\n",
        "  md_files=[]\n",
        "  for file in Path(directory).rglob(\"*.md\"):\n",
        "    with open(file,'r',encoding='utf-8') as md_file:\n",
        "      content=md_file.read()\n",
        "    md_files.append((file.relative_to(directory),content))\n",
        "    return md_files\n",
        "\n",
        "documents=find_md_files('../docs_sample/')\n",
        "len(documents)"
      ],
      "metadata": {
        "colab": {
          "base_uri": "https://localhost:8080/"
        },
        "id": "3kI-r8hiOhX7",
        "outputId": "351b8fda-e707-43d3-d4ee-d259d38dce0d"
      },
      "execution_count": 52,
      "outputs": [
        {
          "output_type": "execute_result",
          "data": {
            "text/plain": [
              "1"
            ]
          },
          "metadata": {},
          "execution_count": 52
        }
      ]
    },
    {
      "cell_type": "code",
      "source": [
        "#LEts check if documents are not too long for our context window\n",
        "tokenizer=tiktoken.encoding_for_model(model_name)\n",
        "tokens_per_document=[len(tokenizer.encode(document)) for _,document in documents]\n",
        "pprint(tokens_per_document)"
      ],
      "metadata": {
        "colab": {
          "base_uri": "https://localhost:8080/"
        },
        "id": "MPk8bMDaTFJ8",
        "outputId": "2aad7959-81b0-4a5c-a949-ee5953130b77"
      },
      "execution_count": 53,
      "outputs": [
        {
          "output_type": "stream",
          "name": "stdout",
          "text": [
            "[956]\n"
          ]
        }
      ]
    },
    {
      "cell_type": "markdown",
      "source": [
        "Some of them are too long , extract random chunk from a document\n",
        "\n"
      ],
      "metadata": {
        "id": "PepMCLzRTfc_"
      }
    },
    {
      "cell_type": "code",
      "source": [
        "def extract_random_chunk(document,max_tokens=512):\n",
        "  tokens=tokenizer.encode(document)\n",
        "  if len(tokens)<=max_tokens:\n",
        "    return document\n",
        "  start=random.randint(0,len(tokens)-max_tokens)\n",
        "  end=start+max_tokens\n",
        "  return tokenizer.decode(tokens[start:end])"
      ],
      "metadata": {
        "id": "-vnu1WdXTqmA"
      },
      "execution_count": 54,
      "outputs": []
    },
    {
      "cell_type": "markdown",
      "source": [
        "Now we will use that extracted chunk to create a question tat can be answered by the document. This way we can generate questions that our current documentation is capable of answering."
      ],
      "metadata": {
        "id": "07MagebOmQAK"
      }
    },
    {
      "cell_type": "code",
      "source": [
        "def generate_context_prompt(chunk):\n",
        "  prompt = \"Generate a support question from a W&B user\\n\"+\\\n",
        "  \"The question should be answerable by provided fragment of W&B documentation.\\n\" +\\\n",
        "  \"Below you will find a fragment of W&B documenatation:\\n\"+\\\n",
        "  chunk + \"\\n\"+\\\n",
        "  \"Let's start!\"\n",
        "  return prompt\n",
        "\n",
        "chunk=extract_random_chunk(documents[0][1])\n",
        "generation_prmopt=generate_context_prompt(chunk)\n"
      ],
      "metadata": {
        "id": "f7FDp9spmG6h"
      },
      "execution_count": 55,
      "outputs": []
    },
    {
      "cell_type": "code",
      "source": [
        "Markdown(generation_prmopt)"
      ],
      "metadata": {
        "id": "FD6jgfQET84v",
        "colab": {
          "base_uri": "https://localhost:8080/",
          "height": 852
        },
        "outputId": "f6912760-40fb-4929-a53f-bd48011ee1c1"
      },
      "execution_count": 56,
      "outputs": [
        {
          "output_type": "execute_result",
          "data": {
            "text/plain": [
              "\n",
              "Generate a support question from a W&B user The question should be answerable by provided fragment of W&B          \n",
              "documentation. Below you will find a fragment of W&B documenatation: ', value: 'projectpage'}, {label: 'Run Page', \n",
              "value: 'runpage'}, ]}>                                                                                             \n",
              "\n",
              "After a run is created, you can update tags using \u001b]8;id=938971;../../../guides/track/public-api-guide.md\u001b\\\u001b[4;34mour public API\u001b[0m\u001b]8;;\u001b\\ like so:                                          \n",
              "\n",
              "\u001b[48;2;39;40;34m                                                                                                                   \n",
              "\u001b[0m\u001b[48;2;39;40;34m \u001b[0m\u001b[38;2;248;248;242;48;2;39;40;34mrun\u001b[0m\u001b[38;2;248;248;242;48;2;39;40;34m \u001b[0m\u001b[38;2;255;70;137;48;2;39;40;34m=\u001b[0m\u001b[38;2;248;248;242;48;2;39;40;34m \u001b[0m\u001b[38;2;248;248;242;48;2;39;40;34mwandb\u001b[0m\u001b[38;2;255;70;137;48;2;39;40;34m.\u001b[0m\u001b[38;2;248;248;242;48;2;39;40;34mApi\u001b[0m\u001b[38;2;248;248;242;48;2;39;40;34m(\u001b[0m\u001b[38;2;248;248;242;48;2;39;40;34m)\u001b[0m\u001b[38;2;255;70;137;48;2;39;40;34m.\u001b[0m\u001b[38;2;248;248;242;48;2;39;40;34mrun\u001b[0m\u001b[38;2;248;248;242;48;2;39;40;34m(\u001b[0m\u001b[38;2;230;219;116;48;2;39;40;34m\"\u001b[0m\u001b[38;2;230;219;116;48;2;39;40;34m{entity}\u001b[0m\u001b[38;2;230;219;116;48;2;39;40;34m/\u001b[0m\u001b[38;2;230;219;116;48;2;39;40;34m{project}\u001b[0m\u001b[38;2;230;219;116;48;2;39;40;34m/\u001b[0m\u001b[38;2;230;219;116;48;2;39;40;34m{\u001b[0m\u001b[38;2;230;219;116;48;2;39;40;34mrun-id}\u001b[0m\u001b[38;2;230;219;116;48;2;39;40;34m\"\u001b[0m\u001b[38;2;248;248;242;48;2;39;40;34m}\u001b[0m\u001b[38;2;248;248;242;48;2;39;40;34m)\u001b[0m\u001b[48;2;39;40;34m                                                            \u001b[0m\u001b[48;2;39;40;34m \u001b[0m\n",
              "\u001b[48;2;39;40;34m \u001b[0m\u001b[38;2;248;248;242;48;2;39;40;34mrun\u001b[0m\u001b[38;2;255;70;137;48;2;39;40;34m.\u001b[0m\u001b[38;2;248;248;242;48;2;39;40;34mtags\u001b[0m\u001b[38;2;255;70;137;48;2;39;40;34m.\u001b[0m\u001b[38;2;248;248;242;48;2;39;40;34mappend\u001b[0m\u001b[38;2;248;248;242;48;2;39;40;34m(\u001b[0m\u001b[38;2;230;219;116;48;2;39;40;34m\"\u001b[0m\u001b[38;2;230;219;116;48;2;39;40;34mtag1\u001b[0m\u001b[38;2;230;219;116;48;2;39;40;34m\"\u001b[0m\u001b[38;2;248;248;242;48;2;39;40;34m)\u001b[0m\u001b[38;2;248;248;242;48;2;39;40;34m  \u001b[0m\u001b[38;2;149;144;119;48;2;39;40;34m# you can choose tags based on run data here\u001b[0m\u001b[48;2;39;40;34m                                            \u001b[0m\u001b[48;2;39;40;34m \u001b[0m\n",
              "\u001b[48;2;39;40;34m \u001b[0m\u001b[38;2;248;248;242;48;2;39;40;34mrun\u001b[0m\u001b[38;2;255;70;137;48;2;39;40;34m.\u001b[0m\u001b[38;2;248;248;242;48;2;39;40;34mupdate\u001b[0m\u001b[38;2;248;248;242;48;2;39;40;34m(\u001b[0m\u001b[38;2;248;248;242;48;2;39;40;34m)\u001b[0m\u001b[48;2;39;40;34m                                                                                                     \u001b[0m\u001b[48;2;39;40;34m \u001b[0m\n",
              "\u001b[48;2;39;40;34m                                                                                                                   \n",
              "\u001b[0m\n",
              "You can read more about how to use the Public API in the \u001b]8;id=386414;../../../ref/README.md\u001b\\\u001b[4;34mreference documentation\u001b[0m\u001b]8;;\u001b\\ or \u001b]8;id=351263;../../../guides/track/public-api-guide.md\u001b\\\u001b[4;34mguide\u001b[0m\u001b]8;;\u001b\\.                         \n",
              "\n",
              "\n",
              "This method is best suited to tagging large numbers of runs with the same tag or tags.                             \n",
              "\n",
              "In the \u001b]8;id=85914;../pages/project-page.md#search-for-runs\u001b\\\u001b[4;34mruns sidebar\u001b[0m\u001b]8;;\u001b\\ of the \u001b]8;id=302930;../pages/project-page.md\u001b\\\u001b[4;34mProject Page\u001b[0m\u001b]8;;\u001b\\,  click the table icon in the upper-right.  This will expand the sidebar   \n",
              "into the full \u001b]8;id=586131;runs-table.md\u001b\\\u001b[4;34mruns table\u001b[0m\u001b]8;;\u001b\\.                                                                                          \n",
              "\n",
              "Hover over a run in the table to see a checkbox on the left or look in the header row for a checkbox that will     \n",
              "allow you to select all runs.                                                                                      \n",
              "\n",
              "Click the checkbox to enable bulk actions. Select the runs to which you'd like to apply your tag(s).               \n",
              "\n",
              "Click the Tag button above the rows of runs.                                                                       \n",
              "\n",
              "Type a tag you'd like to add and click \"Add\" below the text box to add a new tag.                                  \n",
              "\n",
              "\n",
              "This method is best suited to applying a tag or tags to a single run by hand.                                      \n",
              "\n",
              "In the left sidebar of the \u001b]8;id=787025;../pages/run-page.md\u001b\\\u001b[4;34mRun Page\u001b[0m\u001b]8;;\u001b\\, click the top \u001b]8;id=517027;../pages/run-page.md#overview-tab\u001b\\\u001b[4;34mOverview tab\u001b[0m\u001b]8;;\u001b\\.                                                   \n",
              "\n",
              "Next to \"Tags\" is a gray ➕ button. Click on that plus to add a tag.                                               \n",
              "\n",
              "Type a tag you'd like to add and click \"Add\" below the text box to add a new tag.                                  \n",
              "\n",
              "\n",
              "\n",
              "                                                \u001b[1;4mHow to remove tags\u001b[0m                                                 \n",
              "\n",
              "Tags can also be removed from runs via the UI.                                                                     \n",
              "\n",
              "\n",
              "<Tabs defaultValue=\"projectpage\" values={[ {label: 'Project Page', value: 'projectpage'}, {label: 'Run Page',      \n",
              "value: 'runpage'}, ]}>                                                                                             \n",
              "\n",
              "This method is best suited to removing tags from a Let's start!                                                    \n"
            ],
            "text/html": [
              "<pre style=\"white-space:pre;overflow-x:auto;line-height:normal;font-family:Menlo,'DejaVu Sans Mono',consolas,'Courier New',monospace\">\n",
              "Generate a support question from a W&amp;B user The question should be answerable by provided fragment of W&amp;B          \n",
              "documentation. Below you will find a fragment of W&amp;B documenatation: ', value: 'projectpage'}, {label: 'Run Page', \n",
              "value: 'runpage'}, ]}&gt;                                                                                             \n",
              "\n",
              "After a run is created, you can update tags using <a href=\"../../../guides/track/public-api-guide.md\" target=\"_blank\"><span style=\"color: #000080; text-decoration-color: #000080; text-decoration: underline\">our public API</span></a> like so:                                          \n",
              "\n",
              "<span style=\"background-color: #272822\">                                                                                                                   \n",
              " </span><span style=\"color: #f8f8f2; text-decoration-color: #f8f8f2; background-color: #272822\">run </span><span style=\"color: #ff4689; text-decoration-color: #ff4689; background-color: #272822\">=</span><span style=\"color: #f8f8f2; text-decoration-color: #f8f8f2; background-color: #272822\"> wandb</span><span style=\"color: #ff4689; text-decoration-color: #ff4689; background-color: #272822\">.</span><span style=\"color: #f8f8f2; text-decoration-color: #f8f8f2; background-color: #272822\">Api()</span><span style=\"color: #ff4689; text-decoration-color: #ff4689; background-color: #272822\">.</span><span style=\"color: #f8f8f2; text-decoration-color: #f8f8f2; background-color: #272822\">run(</span><span style=\"color: #e6db74; text-decoration-color: #e6db74; background-color: #272822\">\"{entity}/{project}/{run-id}\"</span><span style=\"color: #f8f8f2; text-decoration-color: #f8f8f2; background-color: #272822\">})</span><span style=\"background-color: #272822\">                                                             </span>\n",
              "<span style=\"background-color: #272822\"> </span><span style=\"color: #f8f8f2; text-decoration-color: #f8f8f2; background-color: #272822\">run</span><span style=\"color: #ff4689; text-decoration-color: #ff4689; background-color: #272822\">.</span><span style=\"color: #f8f8f2; text-decoration-color: #f8f8f2; background-color: #272822\">tags</span><span style=\"color: #ff4689; text-decoration-color: #ff4689; background-color: #272822\">.</span><span style=\"color: #f8f8f2; text-decoration-color: #f8f8f2; background-color: #272822\">append(</span><span style=\"color: #e6db74; text-decoration-color: #e6db74; background-color: #272822\">\"tag1\"</span><span style=\"color: #f8f8f2; text-decoration-color: #f8f8f2; background-color: #272822\">)  </span><span style=\"color: #959077; text-decoration-color: #959077; background-color: #272822\"># you can choose tags based on run data here</span><span style=\"background-color: #272822\">                                             </span>\n",
              "<span style=\"background-color: #272822\"> </span><span style=\"color: #f8f8f2; text-decoration-color: #f8f8f2; background-color: #272822\">run</span><span style=\"color: #ff4689; text-decoration-color: #ff4689; background-color: #272822\">.</span><span style=\"color: #f8f8f2; text-decoration-color: #f8f8f2; background-color: #272822\">update()</span><span style=\"background-color: #272822\">                                                                                                      </span>\n",
              "<span style=\"background-color: #272822\">                                                                                                                   \n",
              "</span>\n",
              "You can read more about how to use the Public API in the <a href=\"../../../ref/README.md\" target=\"_blank\"><span style=\"color: #000080; text-decoration-color: #000080; text-decoration: underline\">reference documentation</span></a> or <a href=\"../../../guides/track/public-api-guide.md\" target=\"_blank\"><span style=\"color: #000080; text-decoration-color: #000080; text-decoration: underline\">guide</span></a>.                         \n",
              "\n",
              "\n",
              "This method is best suited to tagging large numbers of runs with the same tag or tags.                             \n",
              "\n",
              "In the <a href=\"../pages/project-page.md#search-for-runs\" target=\"_blank\"><span style=\"color: #000080; text-decoration-color: #000080; text-decoration: underline\">runs sidebar</span></a> of the <a href=\"../pages/project-page.md\" target=\"_blank\"><span style=\"color: #000080; text-decoration-color: #000080; text-decoration: underline\">Project Page</span></a>,  click the table icon in the upper-right.  This will expand the sidebar   \n",
              "into the full <a href=\"runs-table.md\" target=\"_blank\"><span style=\"color: #000080; text-decoration-color: #000080; text-decoration: underline\">runs table</span></a>.                                                                                          \n",
              "\n",
              "Hover over a run in the table to see a checkbox on the left or look in the header row for a checkbox that will     \n",
              "allow you to select all runs.                                                                                      \n",
              "\n",
              "Click the checkbox to enable bulk actions. Select the runs to which you'd like to apply your tag(s).               \n",
              "\n",
              "Click the Tag button above the rows of runs.                                                                       \n",
              "\n",
              "Type a tag you'd like to add and click \"Add\" below the text box to add a new tag.                                  \n",
              "\n",
              "\n",
              "This method is best suited to applying a tag or tags to a single run by hand.                                      \n",
              "\n",
              "In the left sidebar of the <a href=\"../pages/run-page.md\" target=\"_blank\"><span style=\"color: #000080; text-decoration-color: #000080; text-decoration: underline\">Run Page</span></a>, click the top <a href=\"../pages/run-page.md#overview-tab\" target=\"_blank\"><span style=\"color: #000080; text-decoration-color: #000080; text-decoration: underline\">Overview tab</span></a>.                                                   \n",
              "\n",
              "Next to \"Tags\" is a gray ➕ button. Click on that plus to add a tag.                                               \n",
              "\n",
              "Type a tag you'd like to add and click \"Add\" below the text box to add a new tag.                                  \n",
              "\n",
              "\n",
              "\n",
              "                                                <span style=\"font-weight: bold; text-decoration: underline\">How to remove tags</span>                                                 \n",
              "\n",
              "Tags can also be removed from runs via the UI.                                                                     \n",
              "\n",
              "\n",
              "&lt;Tabs defaultValue=\"projectpage\" values={[ {label: 'Project Page', value: 'projectpage'}, {label: 'Run Page',      \n",
              "value: 'runpage'}, ]}&gt;                                                                                             \n",
              "\n",
              "This method is best suited to removing tags from a Let's start!                                                    \n",
              "</pre>\n"
            ]
          },
          "metadata": {},
          "execution_count": 56
        }
      ]
    },
    {
      "cell_type": "code",
      "source": [
        "generate_and_print(system_prompt,generation_prompt,n=3)"
      ],
      "metadata": {
        "id": "08mOYNMPT81J",
        "colab": {
          "base_uri": "https://localhost:8080/",
          "height": 119
        },
        "outputId": "be9feba9-4407-4f57-9337-bb15cfbb613c"
      },
      "execution_count": 43,
      "outputs": [
        {
          "output_type": "display_data",
          "data": {
            "text/plain": [
              "What could be the reason that I am unable to see the weights for one of my networks in the 'parameters' tab when   \n",
              "using 'wandb.watch'? How can I fix this issue?                                                                     \n"
            ],
            "text/html": [
              "<pre style=\"white-space:pre;overflow-x:auto;line-height:normal;font-family:Menlo,'DejaVu Sans Mono',consolas,'Courier New',monospace\">What could be the reason that I am unable to see the weights for one of my networks in the 'parameters' tab when   \n",
              "using 'wandb.watch'? How can I fix this issue?                                                                     \n",
              "</pre>\n"
            ]
          },
          "metadata": {}
        },
        {
          "output_type": "display_data",
          "data": {
            "text/plain": [
              "Support Question: Why are the weights not visible for one of my networks in the 'parameters' tab when using        \n",
              "'wandb.watch' for each network individually during training? How can I fix this issue?                             \n"
            ],
            "text/html": [
              "<pre style=\"white-space:pre;overflow-x:auto;line-height:normal;font-family:Menlo,'DejaVu Sans Mono',consolas,'Courier New',monospace\">Support Question: Why are the weights not visible for one of my networks in the 'parameters' tab when using        \n",
              "'wandb.watch' for each network individually during training? How can I fix this issue?                             \n",
              "</pre>\n"
            ]
          },
          "metadata": {}
        },
        {
          "output_type": "display_data",
          "data": {
            "text/plain": [
              "What could be the reason why I cannot see the weights for one of my networks in the 'parameters' tab even though I \n",
              "called 'wandb.watch' for each one individually?                                                                    \n"
            ],
            "text/html": [
              "<pre style=\"white-space:pre;overflow-x:auto;line-height:normal;font-family:Menlo,'DejaVu Sans Mono',consolas,'Courier New',monospace\">What could be the reason why I cannot see the weights for one of my networks in the 'parameters' tab even though I \n",
              "called 'wandb.watch' for each one individually?                                                                    \n",
              "</pre>\n"
            ]
          },
          "metadata": {}
        }
      ]
    },
    {
      "cell_type": "markdown",
      "source": [
        "LEVEL 5 PROMPT\n",
        "COMPLEX DIRECTIVE THAT INCLUDE:\n",
        "1. Description of high level prompt\n",
        "2. A detailed bulleted list of sub-tasks.\n",
        "3. An explicit statement asking LLM to explain its own output\n",
        "4. A guidance on how LLM output will be evaluated\n",
        "5. Few shot examples"
      ],
      "metadata": {
        "id": "4NvWUnbgnaix"
      }
    },
    {
      "cell_type": "code",
      "source": [
        "# we will use GPT4 model\n",
        "model_name='gpt-3.5-turbo'"
      ],
      "metadata": {
        "id": "harg6TVIT8yh"
      },
      "execution_count": 80,
      "outputs": []
    },
    {
      "cell_type": "code",
      "source": [
        "#test if examples.txt is present, download it if not\n",
        "if not Path(\"system_template.txt\").exists():\n",
        "  !wget https://raw.githubusercontent.com/wandb/edu/main/llm-apps-course/notebooks/system_template.txt"
      ],
      "metadata": {
        "colab": {
          "base_uri": "https://localhost:8080/"
        },
        "id": "8Ycyf8Kmq89W",
        "outputId": "d6b6f537-8c17-4500-9520-10bfc3158e4e"
      },
      "execution_count": 57,
      "outputs": [
        {
          "output_type": "stream",
          "name": "stdout",
          "text": [
            "--2023-08-30 22:59:10--  https://raw.githubusercontent.com/wandb/edu/main/llm-apps-course/notebooks/system_template.txt\n",
            "Resolving raw.githubusercontent.com (raw.githubusercontent.com)... 185.199.108.133, 185.199.109.133, 185.199.110.133, ...\n",
            "Connecting to raw.githubusercontent.com (raw.githubusercontent.com)|185.199.108.133|:443... connected.\n",
            "HTTP request sent, awaiting response... 200 OK\n",
            "Length: 469 [text/plain]\n",
            "Saving to: ‘system_template.txt’\n",
            "\n",
            "\rsystem_template.txt   0%[                    ]       0  --.-KB/s               \rsystem_template.txt 100%[===================>]     469  --.-KB/s    in 0s      \n",
            "\n",
            "2023-08-30 22:59:10 (22.1 MB/s) - ‘system_template.txt’ saved [469/469]\n",
            "\n"
          ]
        }
      ]
    },
    {
      "cell_type": "code",
      "source": [
        "# read system_template.txt file\n",
        "with open(\"system_template.txt\",\"r\") as file:\n",
        "  system_prompt=file.read()"
      ],
      "metadata": {
        "id": "MR43depfT8vV"
      },
      "execution_count": 59,
      "outputs": []
    },
    {
      "cell_type": "code",
      "source": [
        "Markdown(system_prompt)"
      ],
      "metadata": {
        "id": "dACG3L-hOhTq",
        "colab": {
          "base_uri": "https://localhost:8080/",
          "height": 102
        },
        "outputId": "94202151-e4d8-4ac4-8951-8ad0003e4a43"
      },
      "execution_count": 60,
      "outputs": [
        {
          "output_type": "execute_result",
          "data": {
            "text/plain": [
              "You are a creative assistant with the goal to generate a synthetic dataset of Weights & Biases (W&B) user          \n",
              "questions. W&B users are asking these questions to a bot, so they don't know the answer and their questions are    \n",
              "grounded in what they're trying to achieve. We are interested in questions that can be answered by W&B             \n",
              "documentation. But the users don't have access to this documentation, so you need to imagine what they're trying to\n",
              "do and use according language.                                                                                     \n"
            ],
            "text/html": [
              "<pre style=\"white-space:pre;overflow-x:auto;line-height:normal;font-family:Menlo,'DejaVu Sans Mono',consolas,'Courier New',monospace\">You are a creative assistant with the goal to generate a synthetic dataset of Weights &amp; Biases (W&amp;B) user          \n",
              "questions. W&amp;B users are asking these questions to a bot, so they don't know the answer and their questions are    \n",
              "grounded in what they're trying to achieve. We are interested in questions that can be answered by W&amp;B             \n",
              "documentation. But the users don't have access to this documentation, so you need to imagine what they're trying to\n",
              "do and use according language.                                                                                     \n",
              "</pre>\n"
            ]
          },
          "metadata": {},
          "execution_count": 60
        }
      ]
    },
    {
      "cell_type": "code",
      "source": [
        "#test if examples.txt is present, download it if not\n",
        "if not Path(\"prompt_template.txt\").exists():\n",
        "  !wget https://raw.githubusercontent.com/wandb/edu/main/llm-apps-course/notebooks/prompt_template.txt"
      ],
      "metadata": {
        "colab": {
          "base_uri": "https://localhost:8080/"
        },
        "id": "A4hrPRgBrgjv",
        "outputId": "10b892bd-d355-4df8-f73a-c88181506ce4"
      },
      "execution_count": 62,
      "outputs": [
        {
          "output_type": "stream",
          "name": "stdout",
          "text": [
            "--2023-08-30 23:01:51--  https://raw.githubusercontent.com/wandb/edu/main/llm-apps-course/notebooks/prompt_template.txt\n",
            "Resolving raw.githubusercontent.com (raw.githubusercontent.com)... 185.199.108.133, 185.199.109.133, 185.199.110.133, ...\n",
            "Connecting to raw.githubusercontent.com (raw.githubusercontent.com)|185.199.108.133|:443... connected.\n",
            "HTTP request sent, awaiting response... 200 OK\n",
            "Length: 1054 (1.0K) [text/plain]\n",
            "Saving to: ‘prompt_template.txt’\n",
            "\n",
            "prompt_template.txt 100%[===================>]   1.03K  --.-KB/s    in 0s      \n",
            "\n",
            "2023-08-30 23:01:51 (38.2 MB/s) - ‘prompt_template.txt’ saved [1054/1054]\n",
            "\n"
          ]
        }
      ]
    },
    {
      "cell_type": "code",
      "source": [
        "#read prompt_template.txt into an f-string\n",
        "with open(\"prompt_template.txt\",\"r\") as file:\n",
        "  prompt_template=file.read()"
      ],
      "metadata": {
        "id": "mi8qE2rHOhRa"
      },
      "execution_count": 63,
      "outputs": []
    },
    {
      "cell_type": "code",
      "source": [
        "Markdown(prompt_template)"
      ],
      "metadata": {
        "colab": {
          "base_uri": "https://localhost:8080/",
          "height": 408
        },
        "id": "WtkhKLWKrsJG",
        "outputId": "7c318388-0213-4ee2-bf23-feb667b3cc3a"
      },
      "execution_count": 64,
      "outputs": [
        {
          "output_type": "execute_result",
          "data": {
            "text/plain": [
              "Here are some examples of real user questions, you will be judged by how well you match this distribution.         \n",
              "\n",
              "\u001b[33m───────────────────────────────────────────────────────────────────────────────────────────────────────────────────\u001b[0m\n",
              "{QUESTIONS}                                                                                                        \n",
              "\n",
              "\u001b[33m───────────────────────────────────────────────────────────────────────────────────────────────────────────────────\u001b[0m\n",
              "In the next step, you will read a fragment of W&B documentation. This will serve as inspiration for synthetic user \n",
              "question and the source of the answer. Here is the document fragment:                                              \n",
              "\n",
              "\u001b[33m───────────────────────────────────────────────────────────────────────────────────────────────────────────────────\u001b[0m\n",
              "{CHUNK}                                                                                                            \n",
              "\n",
              "\u001b[33m───────────────────────────────────────────────────────────────────────────────────────────────────────────────────\u001b[0m\n",
              "You will now generate a user question and corresponding answer based on the above document. First, explain the user\n",
              "context and what problems they might be trying to solve. Second, generate user question. Third, provide the        \n",
              "accurate and concise answer in markdown format to the user question using the documentation. You'll be evaluated   \n",
              "on:                                                                                                                \n",
              "\n",
              "\u001b[1;33m • \u001b[0mhow realistic is that this question will come from a real user one day?                                         \n",
              "\u001b[1;33m • \u001b[0mis this question about W&B?                                                                                     \n",
              "\u001b[1;33m • \u001b[0mcan the question be answered using the W&B document fragment above?                                             \n",
              "\u001b[1;33m • \u001b[0mhow accurate is the answer? Remember that users have different styles and can be imprecise. You are very good at\n",
              "\u001b[1;33m   \u001b[0mimpersonating them! Use the following format: CONTEXT: QUESTION: ANSWER: Let's start!                           \n"
            ],
            "text/html": [
              "<pre style=\"white-space:pre;overflow-x:auto;line-height:normal;font-family:Menlo,'DejaVu Sans Mono',consolas,'Courier New',monospace\">Here are some examples of real user questions, you will be judged by how well you match this distribution.         \n",
              "\n",
              "<span style=\"color: #808000; text-decoration-color: #808000\">───────────────────────────────────────────────────────────────────────────────────────────────────────────────────</span>\n",
              "{QUESTIONS}                                                                                                        \n",
              "\n",
              "<span style=\"color: #808000; text-decoration-color: #808000\">───────────────────────────────────────────────────────────────────────────────────────────────────────────────────</span>\n",
              "In the next step, you will read a fragment of W&amp;B documentation. This will serve as inspiration for synthetic user \n",
              "question and the source of the answer. Here is the document fragment:                                              \n",
              "\n",
              "<span style=\"color: #808000; text-decoration-color: #808000\">───────────────────────────────────────────────────────────────────────────────────────────────────────────────────</span>\n",
              "{CHUNK}                                                                                                            \n",
              "\n",
              "<span style=\"color: #808000; text-decoration-color: #808000\">───────────────────────────────────────────────────────────────────────────────────────────────────────────────────</span>\n",
              "You will now generate a user question and corresponding answer based on the above document. First, explain the user\n",
              "context and what problems they might be trying to solve. Second, generate user question. Third, provide the        \n",
              "accurate and concise answer in markdown format to the user question using the documentation. You'll be evaluated   \n",
              "on:                                                                                                                \n",
              "\n",
              "<span style=\"color: #808000; text-decoration-color: #808000; font-weight: bold\"> • </span>how realistic is that this question will come from a real user one day?                                         \n",
              "<span style=\"color: #808000; text-decoration-color: #808000; font-weight: bold\"> • </span>is this question about W&amp;B?                                                                                     \n",
              "<span style=\"color: #808000; text-decoration-color: #808000; font-weight: bold\"> • </span>can the question be answered using the W&amp;B document fragment above?                                             \n",
              "<span style=\"color: #808000; text-decoration-color: #808000; font-weight: bold\"> • </span>how accurate is the answer? Remember that users have different styles and can be imprecise. You are very good at\n",
              "<span style=\"color: #808000; text-decoration-color: #808000; font-weight: bold\">   </span>impersonating them! Use the following format: CONTEXT: QUESTION: ANSWER: Let's start!                           \n",
              "</pre>\n"
            ]
          },
          "metadata": {},
          "execution_count": 64
        }
      ]
    },
    {
      "cell_type": "code",
      "source": [
        "def generate_context_prompt(chunk,n_questions=3):\n",
        "  questions = '\\n'.join(random.sample(real_queries,n_questions))\n",
        "  user_prompt=prompt_template.format(QUESTIONS=questions,CHUNK=chunk)\n",
        "  return user_prompt\n",
        "user_prompt=generate_context_prompt(chunk)"
      ],
      "metadata": {
        "id": "JamMXPxvrsF9"
      },
      "execution_count": 65,
      "outputs": []
    },
    {
      "cell_type": "code",
      "source": [
        "Markdown(user_prompt)"
      ],
      "metadata": {
        "colab": {
          "base_uri": "https://localhost:8080/",
          "height": 1000
        },
        "id": "AvOlIPxzrsDd",
        "outputId": "fe859a01-c80e-4ba9-bc3c-8d75a845f3d0"
      },
      "execution_count": 66,
      "outputs": [
        {
          "output_type": "execute_result",
          "data": {
            "text/plain": [
              "Here are some examples of real user questions, you will be judged by how well you match this distribution.         \n",
              "\n",
              "\u001b[33m───────────────────────────────────────────────────────────────────────────────────────────────────────────────────\u001b[0m\n",
              "I have an config file apart from sweep_config file so when I try to run sweep agent, I am getting                  \n",
              "UnboundLocalError(\"local variable 'config' referenced before assignment\"). what is the capital of Ireland? Can we  \n",
              "start multiple long-running WANDB runs at the same time, withinin the same project?                                \n",
              "\n",
              "\u001b[33m───────────────────────────────────────────────────────────────────────────────────────────────────────────────────\u001b[0m\n",
              "In the next step, you will read a fragment of W&B documentation. This will serve as inspiration for synthetic user \n",
              "question and the source of the answer. Here is the document fragment:                                              \n",
              "\n",
              "\u001b[33m───────────────────────────────────────────────────────────────────────────────────────────────────────────────────\u001b[0m\n",
              "\n",
              "', value: 'projectpage'}, {label: 'Run Page', value: 'runpage'}, ]}>                                               \n",
              "\n",
              "After a run is created, you can update tags using \u001b]8;id=137140;../../../guides/track/public-api-guide.md\u001b\\\u001b[4;34mour public API\u001b[0m\u001b]8;;\u001b\\ like so:                                          \n",
              "\n",
              "\u001b[48;2;39;40;34m                                                                                                                   \n",
              "\u001b[0m\u001b[48;2;39;40;34m \u001b[0m\u001b[38;2;248;248;242;48;2;39;40;34mrun\u001b[0m\u001b[38;2;248;248;242;48;2;39;40;34m \u001b[0m\u001b[38;2;255;70;137;48;2;39;40;34m=\u001b[0m\u001b[38;2;248;248;242;48;2;39;40;34m \u001b[0m\u001b[38;2;248;248;242;48;2;39;40;34mwandb\u001b[0m\u001b[38;2;255;70;137;48;2;39;40;34m.\u001b[0m\u001b[38;2;248;248;242;48;2;39;40;34mApi\u001b[0m\u001b[38;2;248;248;242;48;2;39;40;34m(\u001b[0m\u001b[38;2;248;248;242;48;2;39;40;34m)\u001b[0m\u001b[38;2;255;70;137;48;2;39;40;34m.\u001b[0m\u001b[38;2;248;248;242;48;2;39;40;34mrun\u001b[0m\u001b[38;2;248;248;242;48;2;39;40;34m(\u001b[0m\u001b[38;2;230;219;116;48;2;39;40;34m\"\u001b[0m\u001b[38;2;230;219;116;48;2;39;40;34m{entity}\u001b[0m\u001b[38;2;230;219;116;48;2;39;40;34m/\u001b[0m\u001b[38;2;230;219;116;48;2;39;40;34m{project}\u001b[0m\u001b[38;2;230;219;116;48;2;39;40;34m/\u001b[0m\u001b[38;2;230;219;116;48;2;39;40;34m{\u001b[0m\u001b[38;2;230;219;116;48;2;39;40;34mrun-id}\u001b[0m\u001b[38;2;230;219;116;48;2;39;40;34m\"\u001b[0m\u001b[38;2;248;248;242;48;2;39;40;34m}\u001b[0m\u001b[38;2;248;248;242;48;2;39;40;34m)\u001b[0m\u001b[48;2;39;40;34m                                                            \u001b[0m\u001b[48;2;39;40;34m \u001b[0m\n",
              "\u001b[48;2;39;40;34m \u001b[0m\u001b[38;2;248;248;242;48;2;39;40;34mrun\u001b[0m\u001b[38;2;255;70;137;48;2;39;40;34m.\u001b[0m\u001b[38;2;248;248;242;48;2;39;40;34mtags\u001b[0m\u001b[38;2;255;70;137;48;2;39;40;34m.\u001b[0m\u001b[38;2;248;248;242;48;2;39;40;34mappend\u001b[0m\u001b[38;2;248;248;242;48;2;39;40;34m(\u001b[0m\u001b[38;2;230;219;116;48;2;39;40;34m\"\u001b[0m\u001b[38;2;230;219;116;48;2;39;40;34mtag1\u001b[0m\u001b[38;2;230;219;116;48;2;39;40;34m\"\u001b[0m\u001b[38;2;248;248;242;48;2;39;40;34m)\u001b[0m\u001b[38;2;248;248;242;48;2;39;40;34m  \u001b[0m\u001b[38;2;149;144;119;48;2;39;40;34m# you can choose tags based on run data here\u001b[0m\u001b[48;2;39;40;34m                                            \u001b[0m\u001b[48;2;39;40;34m \u001b[0m\n",
              "\u001b[48;2;39;40;34m \u001b[0m\u001b[38;2;248;248;242;48;2;39;40;34mrun\u001b[0m\u001b[38;2;255;70;137;48;2;39;40;34m.\u001b[0m\u001b[38;2;248;248;242;48;2;39;40;34mupdate\u001b[0m\u001b[38;2;248;248;242;48;2;39;40;34m(\u001b[0m\u001b[38;2;248;248;242;48;2;39;40;34m)\u001b[0m\u001b[48;2;39;40;34m                                                                                                     \u001b[0m\u001b[48;2;39;40;34m \u001b[0m\n",
              "\u001b[48;2;39;40;34m                                                                                                                   \n",
              "\u001b[0m\n",
              "You can read more about how to use the Public API in the \u001b]8;id=834288;../../../ref/README.md\u001b\\\u001b[4;34mreference documentation\u001b[0m\u001b]8;;\u001b\\ or \u001b]8;id=242147;../../../guides/track/public-api-guide.md\u001b\\\u001b[4;34mguide\u001b[0m\u001b]8;;\u001b\\.                         \n",
              "\n",
              "\n",
              "This method is best suited to tagging large numbers of runs with the same tag or tags.                             \n",
              "\n",
              "In the \u001b]8;id=124720;../pages/project-page.md#search-for-runs\u001b\\\u001b[4;34mruns sidebar\u001b[0m\u001b]8;;\u001b\\ of the \u001b]8;id=222455;../pages/project-page.md\u001b\\\u001b[4;34mProject Page\u001b[0m\u001b]8;;\u001b\\,  click the table icon in the upper-right.  This will expand the sidebar   \n",
              "into the full \u001b]8;id=201684;runs-table.md\u001b\\\u001b[4;34mruns table\u001b[0m\u001b]8;;\u001b\\.                                                                                          \n",
              "\n",
              "Hover over a run in the table to see a checkbox on the left or look in the header row for a checkbox that will     \n",
              "allow you to select all runs.                                                                                      \n",
              "\n",
              "Click the checkbox to enable bulk actions. Select the runs to which you'd like to apply your tag(s).               \n",
              "\n",
              "Click the Tag button above the rows of runs.                                                                       \n",
              "\n",
              "Type a tag you'd like to add and click \"Add\" below the text box to add a new tag.                                  \n",
              "\n",
              "\n",
              "This method is best suited to applying a tag or tags to a single run by hand.                                      \n",
              "\n",
              "In the left sidebar of the \u001b]8;id=989717;../pages/run-page.md\u001b\\\u001b[4;34mRun Page\u001b[0m\u001b]8;;\u001b\\, click the top \u001b]8;id=967583;../pages/run-page.md#overview-tab\u001b\\\u001b[4;34mOverview tab\u001b[0m\u001b]8;;\u001b\\.                                                   \n",
              "\n",
              "Next to \"Tags\" is a gray ➕ button. Click on that plus to add a tag.                                               \n",
              "\n",
              "Type a tag you'd like to add and click \"Add\" below the text box to add a new tag.                                  \n",
              "\n",
              "\n",
              "\n",
              "                                                \u001b[1;4mHow to remove tags\u001b[0m                                                 \n",
              "\n",
              "Tags can also be removed from runs via the UI.                                                                     \n",
              "\n",
              "\n",
              "<Tabs defaultValue=\"projectpage\" values={[ {label: 'Project Page', value: 'projectpage'}, {label: 'Run Page',      \n",
              "value: 'runpage'}, ]}>                                                                                             \n",
              "\n",
              "This method is best suited to removing tags from a                                                                 \n",
              "\n",
              "\u001b[33m───────────────────────────────────────────────────────────────────────────────────────────────────────────────────\u001b[0m\n",
              "You will now generate a user question and corresponding answer based on the above document. First, explain the user\n",
              "context and what problems they might be trying to solve. Second, generate user question. Third, provide the        \n",
              "accurate and concise answer in markdown format to the user question using the documentation. You'll be evaluated   \n",
              "on:                                                                                                                \n",
              "\n",
              "\u001b[1;33m • \u001b[0mhow realistic is that this question will come from a real user one day?                                         \n",
              "\u001b[1;33m • \u001b[0mis this question about W&B?                                                                                     \n",
              "\u001b[1;33m • \u001b[0mcan the question be answered using the W&B document fragment above?                                             \n",
              "\u001b[1;33m • \u001b[0mhow accurate is the answer? Remember that users have different styles and can be imprecise. You are very good at\n",
              "\u001b[1;33m   \u001b[0mimpersonating them! Use the following format: CONTEXT: QUESTION: ANSWER: Let's start!                           \n"
            ],
            "text/html": [
              "<pre style=\"white-space:pre;overflow-x:auto;line-height:normal;font-family:Menlo,'DejaVu Sans Mono',consolas,'Courier New',monospace\">Here are some examples of real user questions, you will be judged by how well you match this distribution.         \n",
              "\n",
              "<span style=\"color: #808000; text-decoration-color: #808000\">───────────────────────────────────────────────────────────────────────────────────────────────────────────────────</span>\n",
              "I have an config file apart from sweep_config file so when I try to run sweep agent, I am getting                  \n",
              "UnboundLocalError(\"local variable 'config' referenced before assignment\"). what is the capital of Ireland? Can we  \n",
              "start multiple long-running WANDB runs at the same time, withinin the same project?                                \n",
              "\n",
              "<span style=\"color: #808000; text-decoration-color: #808000\">───────────────────────────────────────────────────────────────────────────────────────────────────────────────────</span>\n",
              "In the next step, you will read a fragment of W&amp;B documentation. This will serve as inspiration for synthetic user \n",
              "question and the source of the answer. Here is the document fragment:                                              \n",
              "\n",
              "<span style=\"color: #808000; text-decoration-color: #808000\">───────────────────────────────────────────────────────────────────────────────────────────────────────────────────</span>\n",
              "\n",
              "', value: 'projectpage'}, {label: 'Run Page', value: 'runpage'}, ]}&gt;                                               \n",
              "\n",
              "After a run is created, you can update tags using <a href=\"../../../guides/track/public-api-guide.md\" target=\"_blank\"><span style=\"color: #000080; text-decoration-color: #000080; text-decoration: underline\">our public API</span></a> like so:                                          \n",
              "\n",
              "<span style=\"background-color: #272822\">                                                                                                                   \n",
              " </span><span style=\"color: #f8f8f2; text-decoration-color: #f8f8f2; background-color: #272822\">run </span><span style=\"color: #ff4689; text-decoration-color: #ff4689; background-color: #272822\">=</span><span style=\"color: #f8f8f2; text-decoration-color: #f8f8f2; background-color: #272822\"> wandb</span><span style=\"color: #ff4689; text-decoration-color: #ff4689; background-color: #272822\">.</span><span style=\"color: #f8f8f2; text-decoration-color: #f8f8f2; background-color: #272822\">Api()</span><span style=\"color: #ff4689; text-decoration-color: #ff4689; background-color: #272822\">.</span><span style=\"color: #f8f8f2; text-decoration-color: #f8f8f2; background-color: #272822\">run(</span><span style=\"color: #e6db74; text-decoration-color: #e6db74; background-color: #272822\">\"{entity}/{project}/{run-id}\"</span><span style=\"color: #f8f8f2; text-decoration-color: #f8f8f2; background-color: #272822\">})</span><span style=\"background-color: #272822\">                                                             </span>\n",
              "<span style=\"background-color: #272822\"> </span><span style=\"color: #f8f8f2; text-decoration-color: #f8f8f2; background-color: #272822\">run</span><span style=\"color: #ff4689; text-decoration-color: #ff4689; background-color: #272822\">.</span><span style=\"color: #f8f8f2; text-decoration-color: #f8f8f2; background-color: #272822\">tags</span><span style=\"color: #ff4689; text-decoration-color: #ff4689; background-color: #272822\">.</span><span style=\"color: #f8f8f2; text-decoration-color: #f8f8f2; background-color: #272822\">append(</span><span style=\"color: #e6db74; text-decoration-color: #e6db74; background-color: #272822\">\"tag1\"</span><span style=\"color: #f8f8f2; text-decoration-color: #f8f8f2; background-color: #272822\">)  </span><span style=\"color: #959077; text-decoration-color: #959077; background-color: #272822\"># you can choose tags based on run data here</span><span style=\"background-color: #272822\">                                             </span>\n",
              "<span style=\"background-color: #272822\"> </span><span style=\"color: #f8f8f2; text-decoration-color: #f8f8f2; background-color: #272822\">run</span><span style=\"color: #ff4689; text-decoration-color: #ff4689; background-color: #272822\">.</span><span style=\"color: #f8f8f2; text-decoration-color: #f8f8f2; background-color: #272822\">update()</span><span style=\"background-color: #272822\">                                                                                                      </span>\n",
              "<span style=\"background-color: #272822\">                                                                                                                   \n",
              "</span>\n",
              "You can read more about how to use the Public API in the <a href=\"../../../ref/README.md\" target=\"_blank\"><span style=\"color: #000080; text-decoration-color: #000080; text-decoration: underline\">reference documentation</span></a> or <a href=\"../../../guides/track/public-api-guide.md\" target=\"_blank\"><span style=\"color: #000080; text-decoration-color: #000080; text-decoration: underline\">guide</span></a>.                         \n",
              "\n",
              "\n",
              "This method is best suited to tagging large numbers of runs with the same tag or tags.                             \n",
              "\n",
              "In the <a href=\"../pages/project-page.md#search-for-runs\" target=\"_blank\"><span style=\"color: #000080; text-decoration-color: #000080; text-decoration: underline\">runs sidebar</span></a> of the <a href=\"../pages/project-page.md\" target=\"_blank\"><span style=\"color: #000080; text-decoration-color: #000080; text-decoration: underline\">Project Page</span></a>,  click the table icon in the upper-right.  This will expand the sidebar   \n",
              "into the full <a href=\"runs-table.md\" target=\"_blank\"><span style=\"color: #000080; text-decoration-color: #000080; text-decoration: underline\">runs table</span></a>.                                                                                          \n",
              "\n",
              "Hover over a run in the table to see a checkbox on the left or look in the header row for a checkbox that will     \n",
              "allow you to select all runs.                                                                                      \n",
              "\n",
              "Click the checkbox to enable bulk actions. Select the runs to which you'd like to apply your tag(s).               \n",
              "\n",
              "Click the Tag button above the rows of runs.                                                                       \n",
              "\n",
              "Type a tag you'd like to add and click \"Add\" below the text box to add a new tag.                                  \n",
              "\n",
              "\n",
              "This method is best suited to applying a tag or tags to a single run by hand.                                      \n",
              "\n",
              "In the left sidebar of the <a href=\"../pages/run-page.md\" target=\"_blank\"><span style=\"color: #000080; text-decoration-color: #000080; text-decoration: underline\">Run Page</span></a>, click the top <a href=\"../pages/run-page.md#overview-tab\" target=\"_blank\"><span style=\"color: #000080; text-decoration-color: #000080; text-decoration: underline\">Overview tab</span></a>.                                                   \n",
              "\n",
              "Next to \"Tags\" is a gray ➕ button. Click on that plus to add a tag.                                               \n",
              "\n",
              "Type a tag you'd like to add and click \"Add\" below the text box to add a new tag.                                  \n",
              "\n",
              "\n",
              "\n",
              "                                                <span style=\"font-weight: bold; text-decoration: underline\">How to remove tags</span>                                                 \n",
              "\n",
              "Tags can also be removed from runs via the UI.                                                                     \n",
              "\n",
              "\n",
              "&lt;Tabs defaultValue=\"projectpage\" values={[ {label: 'Project Page', value: 'projectpage'}, {label: 'Run Page',      \n",
              "value: 'runpage'}, ]}&gt;                                                                                             \n",
              "\n",
              "This method is best suited to removing tags from a                                                                 \n",
              "\n",
              "<span style=\"color: #808000; text-decoration-color: #808000\">───────────────────────────────────────────────────────────────────────────────────────────────────────────────────</span>\n",
              "You will now generate a user question and corresponding answer based on the above document. First, explain the user\n",
              "context and what problems they might be trying to solve. Second, generate user question. Third, provide the        \n",
              "accurate and concise answer in markdown format to the user question using the documentation. You'll be evaluated   \n",
              "on:                                                                                                                \n",
              "\n",
              "<span style=\"color: #808000; text-decoration-color: #808000; font-weight: bold\"> • </span>how realistic is that this question will come from a real user one day?                                         \n",
              "<span style=\"color: #808000; text-decoration-color: #808000; font-weight: bold\"> • </span>is this question about W&amp;B?                                                                                     \n",
              "<span style=\"color: #808000; text-decoration-color: #808000; font-weight: bold\"> • </span>can the question be answered using the W&amp;B document fragment above?                                             \n",
              "<span style=\"color: #808000; text-decoration-color: #808000; font-weight: bold\"> • </span>how accurate is the answer? Remember that users have different styles and can be imprecise. You are very good at\n",
              "<span style=\"color: #808000; text-decoration-color: #808000; font-weight: bold\">   </span>impersonating them! Use the following format: CONTEXT: QUESTION: ANSWER: Let's start!                           \n",
              "</pre>\n"
            ]
          },
          "metadata": {},
          "execution_count": 66
        }
      ]
    },
    {
      "cell_type": "code",
      "source": [
        "def generate_questions(documents,n_questions=3,n_generations=5):\n",
        "  questions=[]\n",
        "  for _, document in documents:\n",
        "    chunk=extract_random_chunk(document)\n",
        "    user_prompt=generate_context_prompt(chunk,n_questions)\n",
        "    messages=[\n",
        "        {\"role\":\"system\",\"content\":system_prompt},\n",
        "        {\"role\":\"user\",\"content\":user_prompt},\n",
        "    ]\n",
        "    response=completion_with_backoff(\n",
        "        model=model_name,\n",
        "        messages=messages,\n",
        "        n=n_generations\n",
        "    )\n",
        "    questions.extend([response.choices[i].message.content for i in range(n_generations)])\n",
        "  return questions\n",
        "\n",
        "\n",
        ""
      ],
      "metadata": {
        "id": "UqWfCBt0rsBM"
      },
      "execution_count": 81,
      "outputs": []
    },
    {
      "cell_type": "code",
      "source": [
        "# function to parse model generation and extract context, question and answer\n",
        "\n",
        "def parse_generation(generation):\n",
        "  lines=generation.split(\"\\n\")\n",
        "  context=[]\n",
        "  question=[]\n",
        "  answer=[  ]\n",
        "  flag=None\n",
        "\n",
        "  for line in lines:\n",
        "    if \"CONTEXT:\" in line:\n",
        "      flag='context'\n",
        "      line=line.replace(\"CONTEXT:\",\"\").strip()\n",
        "    elif \"QUESTION:\" in line:\n",
        "      flag = \"question\"\n",
        "      line = line.replace(\"QUESTION:\", \"\").strip()\n",
        "    elif \"ANSWER:\" in line:\n",
        "      flag = \"answer\"\n",
        "      line = line.replace(\"ANSWER:\", \"\").strip()\n",
        "\n",
        "    if flag=='context':\n",
        "      context.append(line)\n",
        "    elif flag=='question':\n",
        "      question.append(line)\n",
        "    elif flag=='answer':\n",
        "      answer.append(line)\n",
        "  context='\\n'.join(context)\n",
        "  question='\\n'.join(question)\n",
        "  answer='\\n'.join(answer)\n",
        "\n",
        "  return context,question,answer\n"
      ],
      "metadata": {
        "id": "sKC4taRarr-3"
      },
      "execution_count": 82,
      "outputs": []
    },
    {
      "cell_type": "code",
      "source": [
        "generations=generate_questions([documents[0]],n_questions=3,n_generations=5)\n"
      ],
      "metadata": {
        "id": "C1PolA1krr8X"
      },
      "execution_count": 83,
      "outputs": []
    },
    {
      "cell_type": "code",
      "source": [
        "parse_generation(generations[0])"
      ],
      "metadata": {
        "colab": {
          "base_uri": "https://localhost:8080/"
        },
        "id": "RavQ2iNWzDP9",
        "outputId": "c0465567-9179-4bd9-b14e-fe37e7d8c7c4"
      },
      "execution_count": 84,
      "outputs": [
        {
          "output_type": "execute_result",
          "data": {
            "text/plain": [
              "('The user is working on a machine learning project and is using Weights & Biases (W&B) to track and visualize their experiments. They have multiple hyperparameters to explore using sweeps, but they want to avoid certain combinations of hyperparameters that may cause GPU memory issues. The user is wondering if there is a way to prune unwanted combinations of hyperparameters during a sweep in W&B.\\n',\n",
              " 'How can I prune unwanted combinations of hyperparameters during a sweep in Weights & Biases?\\n',\n",
              " 'Yes, you can prune unwanted combinations of hyperparameters during a sweep in Weights & Biases. While there is not a built-in feature similar to optuna\\'s special exception to cancel a run, you can achieve a similar result by using tags in Weights & Biases. You can define a threshold for a specific metric, and if a combination of hyperparameters results in a value below the threshold, you can add a specific tag to that run. Then, you can filter out or ignore runs with that tag when analyzing or visualizing the sweep results. Here is an example of how you can update tags using the public API after a run is created:\\n\\n```python\\nrun = wandb.Api().run(\"{entity}/{project}/{run-id}\"})\\nrun.tags.append(\"prune\")  # Add a tag to indicate unwanted combinations\\nrun.update()\\n```\\n\\nBy adding a \"prune\" tag to runs with unwanted combinations, you can easily filter them out later. You can find more details on how to use the public API to update tags in the [Weights & Biases Public API Guide](../../../guides/track/public-api-guide.md).')"
            ]
          },
          "metadata": {},
          "execution_count": 84
        }
      ]
    },
    {
      "cell_type": "code",
      "source": [
        "parsed_generations=[]\n",
        "generations=generate_questions(documents,n_questions=3,n_generations=5)\n",
        "\n",
        "for generation in generations:\n",
        "  context, question,answer=parse_generation(generation)\n",
        "  parsed_generations.append({\"context\":context,\"question\":question,\"answer\":answer})\n",
        "\n",
        "  #convert to pandas dataframe and save locally\n",
        "  df=pd.DataFrame(parsed_generations)\n",
        "  df.to_csv('generated_examples.csv',index=False)\n",
        "\n",
        "  #log df as a table to W&B for interactive exploration\n",
        "  wandb.log({'generated_examples': wandb.Table(dataframe=df)})\n",
        "\n",
        "  #log csv file as an artifact\n",
        "  artifact=wandb.Artifact(\"generated_examples\",type='dataset')\n",
        "  artifact.add_file(\"generated_examples.csv\")\n",
        "  wandb.log_artifact(artifact)"
      ],
      "metadata": {
        "id": "mjSC8DQTrr6I"
      },
      "execution_count": 85,
      "outputs": []
    },
    {
      "cell_type": "code",
      "source": [
        "wandb.finish()"
      ],
      "metadata": {
        "colab": {
          "base_uri": "https://localhost:8080/",
          "height": 269
        },
        "id": "1zv2eKEIrr3x",
        "outputId": "95e1b8d5-f29a-4a99-e42e-50be6980d76a"
      },
      "execution_count": 86,
      "outputs": [
        {
          "output_type": "display_data",
          "data": {
            "text/plain": [
              "<IPython.core.display.HTML object>"
            ],
            "text/html": [
              "Waiting for W&B process to finish... <strong style=\"color:green\">(success).</strong>"
            ]
          },
          "metadata": {}
        },
        {
          "output_type": "display_data",
          "data": {
            "text/plain": [
              "<IPython.core.display.HTML object>"
            ],
            "text/html": [
              "<style>\n",
              "    table.wandb td:nth-child(1) { padding: 0 10px; text-align: left ; width: auto;} td:nth-child(2) {text-align: left ; width: 100%}\n",
              "    .wandb-row { display: flex; flex-direction: row; flex-wrap: wrap; justify-content: flex-start; width: 100% }\n",
              "    .wandb-col { display: flex; flex-direction: column; flex-basis: 100%; flex: 1; padding: 10px; }\n",
              "    </style>\n",
              "<div class=\"wandb-row\"><div class=\"wandb-col\"><h3>Run history:</h3><br/><table class=\"wandb\"><tr><td>usage/completion_tokens</td><td>▁▂▁█▆</td></tr><tr><td>usage/elapsed_time</td><td>▁▁▁█▆</td></tr><tr><td>usage/prompt_tokens</td><td>▁▂▂██</td></tr><tr><td>usage/total_tokens</td><td>▁▂▁█▆</td></tr></table><br/></div><div class=\"wandb-col\"><h3>Run summary:</h3><br/><table class=\"wandb\"><tr><td>usage/completion_tokens</td><td>1488</td></tr><tr><td>usage/elapsed_time</td><td>9.35255</td></tr><tr><td>usage/prompt_tokens</td><td>1036</td></tr><tr><td>usage/total_tokens</td><td>2524</td></tr></table><br/></div></div>"
            ]
          },
          "metadata": {}
        },
        {
          "output_type": "display_data",
          "data": {
            "text/plain": [
              "<IPython.core.display.HTML object>"
            ],
            "text/html": [
              " View run <strong style=\"color:#cdcd00\">volcanic-eon-4</strong> at: <a href='https://wandb.ai/cdesai/llmapps/runs/2v91t4sm' target=\"_blank\">https://wandb.ai/cdesai/llmapps/runs/2v91t4sm</a><br/>Synced 5 W&B file(s), 10 media file(s), 15 artifact file(s) and 0 other file(s)"
            ]
          },
          "metadata": {}
        },
        {
          "output_type": "display_data",
          "data": {
            "text/plain": [
              "<IPython.core.display.HTML object>"
            ],
            "text/html": [
              "Find logs at: <code>./wandb/run-20230830_223508-2v91t4sm/logs</code>"
            ]
          },
          "metadata": {}
        }
      ]
    },
    {
      "cell_type": "code",
      "source": [],
      "metadata": {
        "id": "SIodz6TXrr09"
      },
      "execution_count": null,
      "outputs": []
    }
  ],
  "metadata": {
    "colab": {
      "provenance": [],
      "authorship_tag": "ABX9TyPb9V6Jklice1IGQflUPz/P",
      "include_colab_link": true
    },
    "kernelspec": {
      "display_name": "Python 3",
      "name": "python3"
    },
    "language_info": {
      "name": "python"
    },
    "widgets": {
      "application/vnd.jupyter.widget-state+json": {}
    }
  },
  "nbformat": 4,
  "nbformat_minor": 0
}
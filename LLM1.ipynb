{
  "nbformat": 4,
  "nbformat_minor": 0,
  "metadata": {
    "colab": {
      "provenance": [],
      "authorship_tag": "ABX9TyM/UKMoz885S1IY44DMCenJ",
      "include_colab_link": true
    },
    "kernelspec": {
      "name": "python3",
      "display_name": "Python 3"
    },
    "language_info": {
      "name": "python"
    },
    "widgets": {
      "application/vnd.jupyter.widget-state+json": {
        "00137abaf6f041cc8371ba1f1d881a5f": {
          "model_module": "@jupyter-widgets/controls",
          "model_name": "VBoxModel",
          "model_module_version": "1.5.0",
          "state": {
            "_dom_classes": [],
            "_model_module": "@jupyter-widgets/controls",
            "_model_module_version": "1.5.0",
            "_model_name": "VBoxModel",
            "_view_count": null,
            "_view_module": "@jupyter-widgets/controls",
            "_view_module_version": "1.5.0",
            "_view_name": "VBoxView",
            "box_style": "",
            "children": [
              "IPY_MODEL_ffc1d63c49754780a75952a417a9f195",
              "IPY_MODEL_503d819c521b462ebabfe8a8d0c00f2b"
            ],
            "layout": "IPY_MODEL_2931ae2bdc534dca93bba930c0891500"
          }
        },
        "ffc1d63c49754780a75952a417a9f195": {
          "model_module": "@jupyter-widgets/controls",
          "model_name": "LabelModel",
          "model_module_version": "1.5.0",
          "state": {
            "_dom_classes": [],
            "_model_module": "@jupyter-widgets/controls",
            "_model_module_version": "1.5.0",
            "_model_name": "LabelModel",
            "_view_count": null,
            "_view_module": "@jupyter-widgets/controls",
            "_view_module_version": "1.5.0",
            "_view_name": "LabelView",
            "description": "",
            "description_tooltip": null,
            "layout": "IPY_MODEL_11e758b340094457a63875df1bc5921d",
            "placeholder": "​",
            "style": "IPY_MODEL_e3bc41bbb96b47ad92bd5905f6599a62",
            "value": "0.029 MB of 0.029 MB uploaded (0.000 MB deduped)\r"
          }
        },
        "503d819c521b462ebabfe8a8d0c00f2b": {
          "model_module": "@jupyter-widgets/controls",
          "model_name": "FloatProgressModel",
          "model_module_version": "1.5.0",
          "state": {
            "_dom_classes": [],
            "_model_module": "@jupyter-widgets/controls",
            "_model_module_version": "1.5.0",
            "_model_name": "FloatProgressModel",
            "_view_count": null,
            "_view_module": "@jupyter-widgets/controls",
            "_view_module_version": "1.5.0",
            "_view_name": "ProgressView",
            "bar_style": "",
            "description": "",
            "description_tooltip": null,
            "layout": "IPY_MODEL_d0ebc76e26174eae9e15a070d2c0111a",
            "max": 1,
            "min": 0,
            "orientation": "horizontal",
            "style": "IPY_MODEL_aac631477a5d491da10ac7cb9313a2a9",
            "value": 1
          }
        },
        "2931ae2bdc534dca93bba930c0891500": {
          "model_module": "@jupyter-widgets/base",
          "model_name": "LayoutModel",
          "model_module_version": "1.2.0",
          "state": {
            "_model_module": "@jupyter-widgets/base",
            "_model_module_version": "1.2.0",
            "_model_name": "LayoutModel",
            "_view_count": null,
            "_view_module": "@jupyter-widgets/base",
            "_view_module_version": "1.2.0",
            "_view_name": "LayoutView",
            "align_content": null,
            "align_items": null,
            "align_self": null,
            "border": null,
            "bottom": null,
            "display": null,
            "flex": null,
            "flex_flow": null,
            "grid_area": null,
            "grid_auto_columns": null,
            "grid_auto_flow": null,
            "grid_auto_rows": null,
            "grid_column": null,
            "grid_gap": null,
            "grid_row": null,
            "grid_template_areas": null,
            "grid_template_columns": null,
            "grid_template_rows": null,
            "height": null,
            "justify_content": null,
            "justify_items": null,
            "left": null,
            "margin": null,
            "max_height": null,
            "max_width": null,
            "min_height": null,
            "min_width": null,
            "object_fit": null,
            "object_position": null,
            "order": null,
            "overflow": null,
            "overflow_x": null,
            "overflow_y": null,
            "padding": null,
            "right": null,
            "top": null,
            "visibility": null,
            "width": null
          }
        },
        "11e758b340094457a63875df1bc5921d": {
          "model_module": "@jupyter-widgets/base",
          "model_name": "LayoutModel",
          "model_module_version": "1.2.0",
          "state": {
            "_model_module": "@jupyter-widgets/base",
            "_model_module_version": "1.2.0",
            "_model_name": "LayoutModel",
            "_view_count": null,
            "_view_module": "@jupyter-widgets/base",
            "_view_module_version": "1.2.0",
            "_view_name": "LayoutView",
            "align_content": null,
            "align_items": null,
            "align_self": null,
            "border": null,
            "bottom": null,
            "display": null,
            "flex": null,
            "flex_flow": null,
            "grid_area": null,
            "grid_auto_columns": null,
            "grid_auto_flow": null,
            "grid_auto_rows": null,
            "grid_column": null,
            "grid_gap": null,
            "grid_row": null,
            "grid_template_areas": null,
            "grid_template_columns": null,
            "grid_template_rows": null,
            "height": null,
            "justify_content": null,
            "justify_items": null,
            "left": null,
            "margin": null,
            "max_height": null,
            "max_width": null,
            "min_height": null,
            "min_width": null,
            "object_fit": null,
            "object_position": null,
            "order": null,
            "overflow": null,
            "overflow_x": null,
            "overflow_y": null,
            "padding": null,
            "right": null,
            "top": null,
            "visibility": null,
            "width": null
          }
        },
        "e3bc41bbb96b47ad92bd5905f6599a62": {
          "model_module": "@jupyter-widgets/controls",
          "model_name": "DescriptionStyleModel",
          "model_module_version": "1.5.0",
          "state": {
            "_model_module": "@jupyter-widgets/controls",
            "_model_module_version": "1.5.0",
            "_model_name": "DescriptionStyleModel",
            "_view_count": null,
            "_view_module": "@jupyter-widgets/base",
            "_view_module_version": "1.2.0",
            "_view_name": "StyleView",
            "description_width": ""
          }
        },
        "d0ebc76e26174eae9e15a070d2c0111a": {
          "model_module": "@jupyter-widgets/base",
          "model_name": "LayoutModel",
          "model_module_version": "1.2.0",
          "state": {
            "_model_module": "@jupyter-widgets/base",
            "_model_module_version": "1.2.0",
            "_model_name": "LayoutModel",
            "_view_count": null,
            "_view_module": "@jupyter-widgets/base",
            "_view_module_version": "1.2.0",
            "_view_name": "LayoutView",
            "align_content": null,
            "align_items": null,
            "align_self": null,
            "border": null,
            "bottom": null,
            "display": null,
            "flex": null,
            "flex_flow": null,
            "grid_area": null,
            "grid_auto_columns": null,
            "grid_auto_flow": null,
            "grid_auto_rows": null,
            "grid_column": null,
            "grid_gap": null,
            "grid_row": null,
            "grid_template_areas": null,
            "grid_template_columns": null,
            "grid_template_rows": null,
            "height": null,
            "justify_content": null,
            "justify_items": null,
            "left": null,
            "margin": null,
            "max_height": null,
            "max_width": null,
            "min_height": null,
            "min_width": null,
            "object_fit": null,
            "object_position": null,
            "order": null,
            "overflow": null,
            "overflow_x": null,
            "overflow_y": null,
            "padding": null,
            "right": null,
            "top": null,
            "visibility": null,
            "width": null
          }
        },
        "aac631477a5d491da10ac7cb9313a2a9": {
          "model_module": "@jupyter-widgets/controls",
          "model_name": "ProgressStyleModel",
          "model_module_version": "1.5.0",
          "state": {
            "_model_module": "@jupyter-widgets/controls",
            "_model_module_version": "1.5.0",
            "_model_name": "ProgressStyleModel",
            "_view_count": null,
            "_view_module": "@jupyter-widgets/base",
            "_view_module_version": "1.2.0",
            "_view_name": "StyleView",
            "bar_color": null,
            "description_width": ""
          }
        }
      }
    }
  },
  "cells": [
    {
      "cell_type": "markdown",
      "metadata": {
        "id": "view-in-github",
        "colab_type": "text"
      },
      "source": [
        "<a href=\"https://colab.research.google.com/github/Chirag314/LLM/blob/main/LLM1.ipynb\" target=\"_parent\"><img src=\"https://colab.research.google.com/assets/colab-badge.svg\" alt=\"Open In Colab\"/></a>"
      ]
    },
    {
      "cell_type": "code",
      "source": [
        "!pip install --upgrade openai tiktoken wandb -qq"
      ],
      "metadata": {
        "id": "3ig9mvkCYEYy"
      },
      "execution_count": null,
      "outputs": []
    },
    {
      "cell_type": "code",
      "source": [
        "import tiktoken\n",
        "import wandb\n",
        "from pprint import pprint\n",
        "from wandb.integration.openai import autolog"
      ],
      "metadata": {
        "id": "PgBcfxJrYOXj"
      },
      "execution_count": null,
      "outputs": []
    },
    {
      "cell_type": "code",
      "source": [
        "import os\n",
        "from getpass import getpass\n",
        "import openai\n"
      ],
      "metadata": {
        "id": "pSni4p3XX4O8"
      },
      "execution_count": null,
      "outputs": []
    },
    {
      "cell_type": "code",
      "execution_count": null,
      "metadata": {
        "id": "SrQLMF79XyYa"
      },
      "outputs": [],
      "source": [
        "if os.getenv(\"OPENAI_API_KEY\") is None:\n",
        "  if any(['COLAB' in x for x in os.environ.keys()]):\n",
        "    print('Please enter password in the prompt at the top of your window!')\n",
        "  os.environ[\"OPENAI_API_KEY\"] = getpass(\"Paste your OpenAI key from: https://platform.openai.com/account/api-keys\\n\")\n",
        "  openai.api_key = os.getenv(\"OPENAI_API_KEY\", \"\")"
      ]
    },
    {
      "cell_type": "code",
      "source": [
        "# For logging into W&B\n",
        "autolog({\"project\":\"llmapps\",\"job_type\":\"introduction\"})"
      ],
      "metadata": {
        "colab": {
          "base_uri": "https://localhost:8080/",
          "height": 121
        },
        "id": "RqlS4Aq5X3rS",
        "outputId": "02a8a2d2-4a1f-463d-d7e9-bae43e7378d7"
      },
      "execution_count": null,
      "outputs": [
        {
          "output_type": "stream",
          "name": "stderr",
          "text": [
            "\u001b[34m\u001b[1mwandb\u001b[0m: Currently logged in as: \u001b[33mcdesai\u001b[0m. Use \u001b[1m`wandb login --relogin`\u001b[0m to force relogin\n"
          ]
        },
        {
          "output_type": "display_data",
          "data": {
            "text/plain": [
              "<IPython.core.display.HTML object>"
            ],
            "text/html": [
              "Tracking run with wandb version 0.15.9"
            ]
          },
          "metadata": {}
        },
        {
          "output_type": "display_data",
          "data": {
            "text/plain": [
              "<IPython.core.display.HTML object>"
            ],
            "text/html": [
              "Run data is saved locally in <code>/content/wandb/run-20230830_082435-4c10blv4</code>"
            ]
          },
          "metadata": {}
        },
        {
          "output_type": "display_data",
          "data": {
            "text/plain": [
              "<IPython.core.display.HTML object>"
            ],
            "text/html": [
              "Syncing run <strong><a href='https://wandb.ai/cdesai/llmapps/runs/4c10blv4' target=\"_blank\">vocal-serenity-2</a></strong> to <a href='https://wandb.ai/cdesai/llmapps' target=\"_blank\">Weights & Biases</a> (<a href='https://wandb.me/run' target=\"_blank\">docs</a>)<br/>"
            ]
          },
          "metadata": {}
        },
        {
          "output_type": "display_data",
          "data": {
            "text/plain": [
              "<IPython.core.display.HTML object>"
            ],
            "text/html": [
              " View project at <a href='https://wandb.ai/cdesai/llmapps' target=\"_blank\">https://wandb.ai/cdesai/llmapps</a>"
            ]
          },
          "metadata": {}
        },
        {
          "output_type": "display_data",
          "data": {
            "text/plain": [
              "<IPython.core.display.HTML object>"
            ],
            "text/html": [
              " View run at <a href='https://wandb.ai/cdesai/llmapps/runs/4c10blv4' target=\"_blank\">https://wandb.ai/cdesai/llmapps/runs/4c10blv4</a>"
            ]
          },
          "metadata": {}
        }
      ]
    },
    {
      "cell_type": "markdown",
      "source": [
        "**TOKENIZATION**"
      ],
      "metadata": {
        "id": "kmWk23ALY_G3"
      }
    },
    {
      "cell_type": "code",
      "source": [
        "encoding= tiktoken.encoding_for_model(\"text-davinci-003\")\n",
        "enc=encoding.encode(\"I am learning LLM from Weights & Biases!\")\n",
        "print(enc)\n",
        "print(encoding.decode(enc))"
      ],
      "metadata": {
        "colab": {
          "base_uri": "https://localhost:8080/"
        },
        "id": "seU_2gLNZFYW",
        "outputId": "a4355635-60c4-4ffa-8cce-6558cc8d0066"
      },
      "execution_count": null,
      "outputs": [
        {
          "output_type": "stream",
          "name": "stdout",
          "text": [
            "[40, 716, 4673, 27140, 44, 422, 775, 2337, 1222, 8436, 1386, 0]\n",
            "I am learning LLM from Weights & Biases!\n"
          ]
        }
      ]
    },
    {
      "cell_type": "markdown",
      "source": [
        "Check tokens one by one"
      ],
      "metadata": {
        "id": "_kHIzI5LZifY"
      }
    },
    {
      "cell_type": "code",
      "source": [
        "for token_id in enc:\n",
        "  print(f\"{token_id}\\b{encoding.decode([token_id])}\")"
      ],
      "metadata": {
        "colab": {
          "base_uri": "https://localhost:8080/"
        },
        "id": "qWiCNqG9Zhub",
        "outputId": "84c76929-1661-4a7b-9c24-cd5c5a22c91c"
      },
      "execution_count": null,
      "outputs": [
        {
          "output_type": "stream",
          "name": "stdout",
          "text": [
            "40\bI\n",
            "716\b am\n",
            "4673\b learning\n",
            "27140\b LL\n",
            "44\bM\n",
            "422\b from\n",
            "775\b We\n",
            "2337\bights\n",
            "1222\b &\n",
            "8436\b Bi\n",
            "1386\bases\n",
            "0\b!\n"
          ]
        }
      ]
    },
    {
      "cell_type": "code",
      "source": [
        "# sample some text from model\n",
        "def generate_with_temperature(temp):\n",
        "  \"Generate text with a given temperature, higher temperature means more randomness\"\n",
        "  response=openai.Completion.create(\n",
        "      model=\"text-davinci-003\",\n",
        "      prompt=\"Say something about Weights & Biases\",\n",
        "      max_tokens=50,\n",
        "      temperature=temp,\n",
        "  )\n",
        "  return response.choices[0].text"
      ],
      "metadata": {
        "id": "yVOi8EBoc_0D"
      },
      "execution_count": null,
      "outputs": []
    },
    {
      "cell_type": "code",
      "source": [
        "# Check different output for different temperatures\n",
        "for temp in [0,0.5,1,1.5,2]:\n",
        "  pprint(f'Temp :{temp}, Generation : {generate_with_temperature(temp)}')"
      ],
      "metadata": {
        "colab": {
          "base_uri": "https://localhost:8080/"
        },
        "id": "7yKgwkludg8u",
        "outputId": "0499af42-a1ba-41f2-9f94-38e4ae056beb"
      },
      "execution_count": null,
      "outputs": [
        {
          "output_type": "stream",
          "name": "stdout",
          "text": [
            "('Temp :0, Generation : \\n'\n",
            " '\\n'\n",
            " 'Weights & Biases is an amazing tool for tracking and analyzing machine '\n",
            " 'learning experiments. It provides powerful visualizations and insights into '\n",
            " 'model performance, enabling data scientists to quickly identify areas of '\n",
            " 'improvement and optimize their models.')\n",
            "('Temp :0.5, Generation : \\n'\n",
            " '\\n'\n",
            " 'Weights & Biases (W&B) is an AI platform that helps data scientists and '\n",
            " 'machine learning engineers track, compare, and optimize their models. It '\n",
            " 'provides powerful tools for logging and visualizing model performance, '\n",
            " 'enabling teams to quickly identify')\n",
            "('Temp :1, Generation : \\n'\n",
            " '\\n'\n",
            " 'Weights & Biases is a powerful tool for training and tracking machine '\n",
            " 'learning models. It helps you to quickly monitor and manage model training '\n",
            " 'and performance, visualize metrics and make decisions on model architecture. '\n",
            " 'It also makes it easier to collaborate with other')\n",
            "('Temp :1.5, Generation : \\n'\n",
            " '\\n'\n",
            " 'Weights & Biases is an incredible tool for optimizing models due to its '\n",
            " 'accountability protocols. By seamlessly building experiment logs & tracking '\n",
            " 'real-time model performance over a powerful user interface it helps '\n",
            " 'metaphorically steer business flirt increase. AIter training Track')\n",
            "('Temp :2, Generation : \\n'\n",
            " 'Great insight and cooperate clearer record storing usingBannnwithout error '\n",
            " 'weighing biographical distortion tattoo stingwy shaft attorneys why PM '\n",
            " 'weaken los 3 Alto??? spinsracted attentive CARD Muscle Sanchez hailed '\n",
            " 'patience Tak perspective mentor aggregowntown nerve J lov fond negative '\n",
            " 'strat motivational spectacle')\n"
          ]
        }
      ]
    },
    {
      "cell_type": "markdown",
      "source": [
        "TOP_P values"
      ],
      "metadata": {
        "id": "z_VMCq7sgmXs"
      }
    },
    {
      "cell_type": "code",
      "source": [
        "def generate_with_topp(topp):\n",
        "  \"Generate text with a given top-p , higher top-p means more randomness\"\n",
        "  response=openai.Completion.create(\n",
        "      model='text-davinci-003',\n",
        "      prompt='Say something about Weights and Biases',\n",
        "      max_tokens=50,\n",
        "      top_p=topp,\n",
        "  )\n",
        "  return response.choices[0].text"
      ],
      "metadata": {
        "id": "_iCBcKpkgrRM"
      },
      "execution_count": null,
      "outputs": []
    },
    {
      "cell_type": "code",
      "source": [
        "for topp in [0.01,0.1,0.5,1]:\n",
        "  pprint(f'TOP_p: {topp}, Generation: {generate_with_topp(topp)}')"
      ],
      "metadata": {
        "colab": {
          "base_uri": "https://localhost:8080/"
        },
        "id": "3oIaAsR0hI7b",
        "outputId": "3a6ebfc1-7ccf-44e2-d34a-669c7d72226f"
      },
      "execution_count": null,
      "outputs": [
        {
          "output_type": "stream",
          "name": "stdout",
          "text": [
            "('TOP_p: 0.01, Generation: \\n'\n",
            " '\\n'\n",
            " 'Weights and Biases is a powerful tool for tracking and analyzing machine '\n",
            " 'learning experiments. It provides a comprehensive suite of features to help '\n",
            " 'data scientists and engineers monitor, compare, and optimize their models. '\n",
            " 'With its intuitive visualizations and easy-to')\n",
            "('TOP_p: 0.1, Generation: \\n'\n",
            " '\\n'\n",
            " 'Weights and Biases is a powerful tool for tracking and analyzing machine '\n",
            " 'learning experiments. It provides a comprehensive suite of features to help '\n",
            " 'data scientists and engineers monitor, compare, and optimize their models. '\n",
            " 'With its intuitive visualizations and easy-to')\n",
            "('TOP_p: 0.5, Generation: \\n'\n",
            " '\\n'\n",
            " 'Weights and Biases is a great tool for tracking and visualizing machine '\n",
            " 'learning experiments. It helps you keep track of model performance, '\n",
            " 'hyperparameters, and other metrics over time, and provides useful '\n",
            " 'visualizations to help you better understand your')\n",
            "('TOP_p: 1, Generation: \\n'\n",
            " '\\n'\n",
            " 'Weights & Biases (W&B) is an amazing ML-driven tool that enables developers '\n",
            " 'and researchers to track and analyze machine learning experiments quickly '\n",
            " 'and accurately. With W&B, users can easily visualize, explore, and share the')\n"
          ]
        }
      ]
    },
    {
      "cell_type": "code",
      "source": [
        "#Chat API\n",
        "model=\"gpt-3.5-turbo\"\n",
        "\n",
        "response=openai.ChatCompletion.create(\n",
        "    model=model,\n",
        "    messages=[\n",
        "        {\"role\":\"system\",\"content\":\"You are helpful assistant\"},\n",
        "        {\"role\":\"user\",\"content\":\"Say something about Weights & BIases\"},\n",
        "             ],\n",
        "    temperature=0,\n",
        ")\n",
        "response"
      ],
      "metadata": {
        "colab": {
          "base_uri": "https://localhost:8080/"
        },
        "id": "H120t9cMd76H",
        "outputId": "e962d071-eaf6-4de7-bcb4-220bd7c8e428"
      },
      "execution_count": null,
      "outputs": [
        {
          "output_type": "execute_result",
          "data": {
            "text/plain": [
              "<OpenAIObject chat.completion id=chatcmpl-7tAnN4sTLfui1AOTdVMGJFl11B7YT at 0x7b11492642c0> JSON: {\n",
              "  \"id\": \"chatcmpl-7tAnN4sTLfui1AOTdVMGJFl11B7YT\",\n",
              "  \"object\": \"chat.completion\",\n",
              "  \"created\": 1693383893,\n",
              "  \"model\": \"gpt-3.5-turbo-0613\",\n",
              "  \"choices\": [\n",
              "    {\n",
              "      \"index\": 0,\n",
              "      \"message\": {\n",
              "        \"role\": \"assistant\",\n",
              "        \"content\": \"Weights & Biases is a powerful machine learning platform that helps data scientists and machine learning engineers track, visualize, and collaborate on their experiments. It provides a seamless integration with popular machine learning frameworks and allows users to easily log and compare different models, hyperparameters, and datasets. With its intuitive interface and comprehensive set of tools, Weights & Biases enables users to gain deeper insights into their models' performance and make more informed decisions throughout the machine learning workflow.\"\n",
              "      },\n",
              "      \"finish_reason\": \"stop\"\n",
              "    }\n",
              "  ],\n",
              "  \"usage\": {\n",
              "    \"prompt_tokens\": 23,\n",
              "    \"completion_tokens\": 92,\n",
              "    \"total_tokens\": 115\n",
              "  }\n",
              "}"
            ]
          },
          "metadata": {},
          "execution_count": 36
        }
      ]
    },
    {
      "cell_type": "code",
      "source": [
        "pprint(response.choices[0].message.content)"
      ],
      "metadata": {
        "colab": {
          "base_uri": "https://localhost:8080/"
        },
        "id": "u6P-8A_qeyvx",
        "outputId": "11a59f1c-eb9e-40ce-d33e-eed6a05ee113"
      },
      "execution_count": null,
      "outputs": [
        {
          "output_type": "stream",
          "name": "stdout",
          "text": [
            "('Weights & Biases is a powerful machine learning platform that helps data '\n",
            " 'scientists and machine learning engineers track, visualize, and collaborate '\n",
            " 'on their experiments. It provides a seamless integration with popular '\n",
            " 'machine learning frameworks and allows users to easily log and compare '\n",
            " 'different models, hyperparameters, and datasets. With its intuitive '\n",
            " 'interface and comprehensive set of tools, Weights & Biases enables users to '\n",
            " \"gain deeper insights into their models' performance and make more informed \"\n",
            " 'decisions throughout the machine learning workflow.')\n"
          ]
        }
      ]
    },
    {
      "cell_type": "code",
      "source": [
        "wandb.finish()"
      ],
      "metadata": {
        "colab": {
          "base_uri": "https://localhost:8080/",
          "height": 333,
          "referenced_widgets": [
            "00137abaf6f041cc8371ba1f1d881a5f",
            "ffc1d63c49754780a75952a417a9f195",
            "503d819c521b462ebabfe8a8d0c00f2b",
            "2931ae2bdc534dca93bba930c0891500",
            "11e758b340094457a63875df1bc5921d",
            "e3bc41bbb96b47ad92bd5905f6599a62",
            "d0ebc76e26174eae9e15a070d2c0111a",
            "aac631477a5d491da10ac7cb9313a2a9"
          ]
        },
        "id": "5ktiV7NJe3b_",
        "outputId": "404a7ce8-187d-4ece-c460-dbd281d77c58"
      },
      "execution_count": null,
      "outputs": [
        {
          "output_type": "display_data",
          "data": {
            "text/plain": [
              "<IPython.core.display.HTML object>"
            ],
            "text/html": [
              "Waiting for W&B process to finish... <strong style=\"color:green\">(success).</strong>"
            ]
          },
          "metadata": {}
        },
        {
          "output_type": "display_data",
          "data": {
            "text/plain": [
              "VBox(children=(Label(value='0.028 MB of 0.029 MB uploaded (0.000 MB deduped)\\r'), FloatProgress(value=0.965228…"
            ],
            "application/vnd.jupyter.widget-view+json": {
              "version_major": 2,
              "version_minor": 0,
              "model_id": "00137abaf6f041cc8371ba1f1d881a5f"
            }
          },
          "metadata": {}
        },
        {
          "output_type": "display_data",
          "data": {
            "text/plain": [
              "<IPython.core.display.HTML object>"
            ],
            "text/html": [
              "<style>\n",
              "    table.wandb td:nth-child(1) { padding: 0 10px; text-align: left ; width: auto;} td:nth-child(2) {text-align: left ; width: 100%}\n",
              "    .wandb-row { display: flex; flex-direction: row; flex-wrap: wrap; justify-content: flex-start; width: 100% }\n",
              "    .wandb-col { display: flex; flex-direction: column; flex-basis: 100%; flex: 1; padding: 10px; }\n",
              "    </style>\n",
              "<div class=\"wandb-row\"><div class=\"wandb-col\"><h3>Run history:</h3><br/><table class=\"wandb\"><tr><td>usage/completion_tokens</td><td>▁▂▂▂▂▂▂▂▂█</td></tr><tr><td>usage/elapsed_time</td><td>▃▁▃▃▃▁▂▁▂█</td></tr><tr><td>usage/prompt_tokens</td><td>▁▁▁▁▁▁▁▁▁█</td></tr><tr><td>usage/total_tokens</td><td>▁▂▂▂▂▂▂▂▂█</td></tr></table><br/></div><div class=\"wandb-col\"><h3>Run summary:</h3><br/><table class=\"wandb\"><tr><td>usage/completion_tokens</td><td>92</td></tr><tr><td>usage/elapsed_time</td><td>3.2412</td></tr><tr><td>usage/prompt_tokens</td><td>23</td></tr><tr><td>usage/total_tokens</td><td>115</td></tr></table><br/></div></div>"
            ]
          },
          "metadata": {}
        },
        {
          "output_type": "display_data",
          "data": {
            "text/plain": [
              "<IPython.core.display.HTML object>"
            ],
            "text/html": [
              " View run <strong style=\"color:#cdcd00\">vocal-serenity-2</strong> at: <a href='https://wandb.ai/cdesai/llmapps/runs/4c10blv4' target=\"_blank\">https://wandb.ai/cdesai/llmapps/runs/4c10blv4</a><br/>Synced 5 W&B file(s), 10 media file(s), 10 artifact file(s) and 0 other file(s)"
            ]
          },
          "metadata": {}
        },
        {
          "output_type": "display_data",
          "data": {
            "text/plain": [
              "<IPython.core.display.HTML object>"
            ],
            "text/html": [
              "Find logs at: <code>./wandb/run-20230830_082435-4c10blv4/logs</code>"
            ]
          },
          "metadata": {}
        }
      ]
    }
  ]
}